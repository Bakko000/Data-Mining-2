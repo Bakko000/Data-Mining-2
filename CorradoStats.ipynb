{
 "cells": [
  {
   "cell_type": "code",
   "execution_count": 19,
   "metadata": {},
   "outputs": [],
   "source": [
    "import numpy as np\n",
    "import pandas as pd\n",
    "import matplotlib.pyplot as plt\n",
    "import seaborn as sns\n",
    "from scipy.stats import pearsonr\n",
    "from scipy.spatial.distance import cosine"
   ]
  },
  {
   "cell_type": "code",
   "execution_count": 20,
   "metadata": {},
   "outputs": [],
   "source": [
    "df=pd.read_csv('tabular/tabular/tracks.csv', skipinitialspace=True)"
   ]
  },
  {
   "cell_type": "code",
   "execution_count": 21,
   "metadata": {},
   "outputs": [
    {
     "data": {
      "text/html": [
       "<div>\n",
       "<style scoped>\n",
       "    .dataframe tbody tr th:only-of-type {\n",
       "        vertical-align: middle;\n",
       "    }\n",
       "\n",
       "    .dataframe tbody tr th {\n",
       "        vertical-align: top;\n",
       "    }\n",
       "\n",
       "    .dataframe thead th {\n",
       "        text-align: right;\n",
       "    }\n",
       "</style>\n",
       "<table border=\"1\" class=\"dataframe\">\n",
       "  <thead>\n",
       "    <tr style=\"text-align: right;\">\n",
       "      <th></th>\n",
       "      <th>id</th>\n",
       "      <th>name</th>\n",
       "      <th>disc_number</th>\n",
       "      <th>duration_ms</th>\n",
       "      <th>explicit</th>\n",
       "      <th>popularity</th>\n",
       "      <th>track_number</th>\n",
       "      <th>artists</th>\n",
       "      <th>album_type</th>\n",
       "      <th>album_name</th>\n",
       "      <th>...</th>\n",
       "      <th>features_duration_ms</th>\n",
       "      <th>time_signature</th>\n",
       "      <th>start_of_fade_out</th>\n",
       "      <th>tempo_confidence</th>\n",
       "      <th>time_signature_confidence</th>\n",
       "      <th>key_confidence</th>\n",
       "      <th>mode_confidence</th>\n",
       "      <th>n_beats</th>\n",
       "      <th>n_bars</th>\n",
       "      <th>genre</th>\n",
       "    </tr>\n",
       "  </thead>\n",
       "  <tbody>\n",
       "    <tr>\n",
       "      <th>0</th>\n",
       "      <td>4rjA5kJJWbwU1prXCvg6Fk</td>\n",
       "      <td>Grey</td>\n",
       "      <td>1</td>\n",
       "      <td>290479</td>\n",
       "      <td>False</td>\n",
       "      <td>52</td>\n",
       "      <td>5</td>\n",
       "      <td>Kölsch</td>\n",
       "      <td>album</td>\n",
       "      <td>1989</td>\n",
       "      <td>...</td>\n",
       "      <td>290479</td>\n",
       "      <td>3</td>\n",
       "      <td>275.90530</td>\n",
       "      <td>0.020</td>\n",
       "      <td>1.000</td>\n",
       "      <td>0.500</td>\n",
       "      <td>0.525</td>\n",
       "      <td>705.0</td>\n",
       "      <td>234.0</td>\n",
       "      <td>minimal-techno</td>\n",
       "    </tr>\n",
       "    <tr>\n",
       "      <th>1</th>\n",
       "      <td>6xzpUzzIquIyUzTLbbgSdI</td>\n",
       "      <td>Thrown</td>\n",
       "      <td>1</td>\n",
       "      <td>539229</td>\n",
       "      <td>False</td>\n",
       "      <td>45</td>\n",
       "      <td>5</td>\n",
       "      <td>Kiasmos</td>\n",
       "      <td>album</td>\n",
       "      <td>Kiasmos</td>\n",
       "      <td>...</td>\n",
       "      <td>539229</td>\n",
       "      <td>4</td>\n",
       "      <td>517.28253</td>\n",
       "      <td>0.678</td>\n",
       "      <td>0.326</td>\n",
       "      <td>0.410</td>\n",
       "      <td>0.589</td>\n",
       "      <td>1074.0</td>\n",
       "      <td>269.0</td>\n",
       "      <td>minimal-techno</td>\n",
       "    </tr>\n",
       "    <tr>\n",
       "      <th>2</th>\n",
       "      <td>56tXgHlSHCfgmGhwVXNizc</td>\n",
       "      <td>Routine</td>\n",
       "      <td>1</td>\n",
       "      <td>264200</td>\n",
       "      <td>False</td>\n",
       "      <td>39</td>\n",
       "      <td>5</td>\n",
       "      <td>Joris Delacroix</td>\n",
       "      <td>album</td>\n",
       "      <td>Night Visions</td>\n",
       "      <td>...</td>\n",
       "      <td>264200</td>\n",
       "      <td>3</td>\n",
       "      <td>259.04180</td>\n",
       "      <td>0.847</td>\n",
       "      <td>0.457</td>\n",
       "      <td>0.904</td>\n",
       "      <td>0.760</td>\n",
       "      <td>516.0</td>\n",
       "      <td>171.0</td>\n",
       "      <td>minimal-techno</td>\n",
       "    </tr>\n",
       "    <tr>\n",
       "      <th>3</th>\n",
       "      <td>0s3wIBczp6TdSJ2y8cveJl</td>\n",
       "      <td>Confronted - Anfisa Letyago Stranger Remix</td>\n",
       "      <td>1</td>\n",
       "      <td>387413</td>\n",
       "      <td>False</td>\n",
       "      <td>0</td>\n",
       "      <td>6</td>\n",
       "      <td>Pan-Pot;Anfisa Letyago</td>\n",
       "      <td>single</td>\n",
       "      <td>Confronted Remixes</td>\n",
       "      <td>...</td>\n",
       "      <td>387414</td>\n",
       "      <td>4</td>\n",
       "      <td>387.41360</td>\n",
       "      <td>0.882</td>\n",
       "      <td>0.498</td>\n",
       "      <td>0.512</td>\n",
       "      <td>0.503</td>\n",
       "      <td>826.0</td>\n",
       "      <td>207.0</td>\n",
       "      <td>minimal-techno</td>\n",
       "    </tr>\n",
       "    <tr>\n",
       "      <th>4</th>\n",
       "      <td>4PSbDDd1LRYMhqPXvza6I2</td>\n",
       "      <td>Jupiter Sunrise</td>\n",
       "      <td>1</td>\n",
       "      <td>248956</td>\n",
       "      <td>False</td>\n",
       "      <td>0</td>\n",
       "      <td>1</td>\n",
       "      <td>Kollektiv Turmstrasse</td>\n",
       "      <td>compilation</td>\n",
       "      <td>10 Years Diynamic</td>\n",
       "      <td>...</td>\n",
       "      <td>248957</td>\n",
       "      <td>4</td>\n",
       "      <td>239.63574</td>\n",
       "      <td>0.882</td>\n",
       "      <td>1.000</td>\n",
       "      <td>0.474</td>\n",
       "      <td>0.459</td>\n",
       "      <td>493.0</td>\n",
       "      <td>123.0</td>\n",
       "      <td>minimal-techno</td>\n",
       "    </tr>\n",
       "  </tbody>\n",
       "</table>\n",
       "<p>5 rows × 34 columns</p>\n",
       "</div>"
      ],
      "text/plain": [
       "                       id                                        name  \\\n",
       "0  4rjA5kJJWbwU1prXCvg6Fk                                        Grey   \n",
       "1  6xzpUzzIquIyUzTLbbgSdI                                      Thrown   \n",
       "2  56tXgHlSHCfgmGhwVXNizc                                     Routine   \n",
       "3  0s3wIBczp6TdSJ2y8cveJl  Confronted - Anfisa Letyago Stranger Remix   \n",
       "4  4PSbDDd1LRYMhqPXvza6I2                             Jupiter Sunrise   \n",
       "\n",
       "   disc_number  duration_ms  explicit  popularity  track_number  \\\n",
       "0            1       290479     False          52             5   \n",
       "1            1       539229     False          45             5   \n",
       "2            1       264200     False          39             5   \n",
       "3            1       387413     False           0             6   \n",
       "4            1       248956     False           0             1   \n",
       "\n",
       "                  artists   album_type          album_name  ...  \\\n",
       "0                  Kölsch        album                1989  ...   \n",
       "1                 Kiasmos        album             Kiasmos  ...   \n",
       "2         Joris Delacroix        album       Night Visions  ...   \n",
       "3  Pan-Pot;Anfisa Letyago       single  Confronted Remixes  ...   \n",
       "4   Kollektiv Turmstrasse  compilation   10 Years Diynamic  ...   \n",
       "\n",
       "  features_duration_ms time_signature  start_of_fade_out  tempo_confidence  \\\n",
       "0               290479              3          275.90530             0.020   \n",
       "1               539229              4          517.28253             0.678   \n",
       "2               264200              3          259.04180             0.847   \n",
       "3               387414              4          387.41360             0.882   \n",
       "4               248957              4          239.63574             0.882   \n",
       "\n",
       "   time_signature_confidence  key_confidence  mode_confidence  n_beats  \\\n",
       "0                      1.000           0.500            0.525    705.0   \n",
       "1                      0.326           0.410            0.589   1074.0   \n",
       "2                      0.457           0.904            0.760    516.0   \n",
       "3                      0.498           0.512            0.503    826.0   \n",
       "4                      1.000           0.474            0.459    493.0   \n",
       "\n",
       "   n_bars           genre  \n",
       "0   234.0  minimal-techno  \n",
       "1   269.0  minimal-techno  \n",
       "2   171.0  minimal-techno  \n",
       "3   207.0  minimal-techno  \n",
       "4   123.0  minimal-techno  \n",
       "\n",
       "[5 rows x 34 columns]"
      ]
     },
     "execution_count": 21,
     "metadata": {},
     "output_type": "execute_result"
    }
   ],
   "source": [
    "df.head()"
   ]
  },
  {
   "cell_type": "markdown",
   "metadata": {},
   "source": [
    "### Partiamo dagli scatterplot rilevanti dal data understanding"
   ]
  },
  {
   "cell_type": "code",
   "execution_count": 22,
   "metadata": {},
   "outputs": [
    {
     "name": "stdout",
     "output_type": "stream",
     "text": [
      "Pearson correlation coefficient: 0.8496034580900361\n"
     ]
    }
   ],
   "source": [
    "pearson_corr, _ = pearsonr(df['start_of_fade_out'], df['n_beats'])\n",
    "print(\"Pearson correlation coefficient:\", pearson_corr)"
   ]
  },
  {
   "cell_type": "code",
   "execution_count": 23,
   "metadata": {},
   "outputs": [
    {
     "name": "stdout",
     "output_type": "stream",
     "text": [
      "Pearson correlation coefficient: 0.9985324967887818\n"
     ]
    }
   ],
   "source": [
    "pearson_corr, _ = pearsonr(df['start_of_fade_out'], df['duration_ms'])\n",
    "print(\"Pearson correlation coefficient:\", pearson_corr)"
   ]
  },
  {
   "cell_type": "code",
   "execution_count": 24,
   "metadata": {},
   "outputs": [
    {
     "name": "stdout",
     "output_type": "stream",
     "text": [
      "Pearson correlation coefficient: 0.8497237209941092\n"
     ]
    }
   ],
   "source": [
    "pearson_corr, _ = pearsonr(df['duration_ms'], df['n_beats'])\n",
    "print(\"Pearson correlation coefficient:\", pearson_corr)"
   ]
  },
  {
   "cell_type": "code",
   "execution_count": 25,
   "metadata": {},
   "outputs": [
    {
     "data": {
      "text/plain": [
       "0.9997421110703005"
      ]
     },
     "execution_count": 25,
     "metadata": {},
     "output_type": "execute_result"
    }
   ],
   "source": [
    "# 0.99 ? mhhhh..\n",
    "cosine_similarity_result = 1 - cosine(df['duration_ms'], df['start_of_fade_out'])\n",
    "cosine_similarity_result"
   ]
  },
  {
   "cell_type": "code",
   "execution_count": 26,
   "metadata": {},
   "outputs": [
    {
     "data": {
      "text/plain": [
       "<Axes: xlabel='start_of_fade_out', ylabel='Count'>"
      ]
     },
     "execution_count": 26,
     "metadata": {},
     "output_type": "execute_result"
    },
    {
     "data": {
      "image/png": "[encoded data removed]",
      "text/plain": [
       "<Figure size 432x288 with 1 Axes>"
      ]
     },
     "metadata": {
      "needs_background": "light"
     },
     "output_type": "display_data"
    }
   ],
   "source": [
    "sns.histplot(df[\"start_of_fade_out\"])"
   ]
  },
  {
   "cell_type": "code",
   "execution_count": 27,
   "metadata": {},
   "outputs": [
    {
     "name": "stdout",
     "output_type": "stream",
     "text": [
      "96.17436043438141\n",
      "125.6122543712825\n",
      "5.788186796614059\n"
     ]
    }
   ],
   "source": [
    "print(df[\"start_of_fade_out\"].std()) # dev std\n",
    "print(df[\"start_of_fade_out\"].kurt()) # kurtosis\n",
    "print(df[\"start_of_fade_out\"].skew()) # skewness"
   ]
  },
  {
   "cell_type": "code",
   "execution_count": 28,
   "metadata": {},
   "outputs": [
    {
     "data": {
      "text/plain": [
       "<Axes: >"
      ]
     },
     "execution_count": 28,
     "metadata": {},
     "output_type": "execute_result"
    },
    {
     "data": {
      "image/png": "[encoded data removed]",
      "text/plain": [
       "<Figure size 432x288 with 1 Axes>"
      ]
     },
     "metadata": {
      "needs_background": "light"
     },
     "output_type": "display_data"
    }
   ],
   "source": [
    "sns.boxplot(df[\"start_of_fade_out\"], orient=\"h\")"
   ]
  },
  {
   "cell_type": "code",
   "execution_count": 29,
   "metadata": {},
   "outputs": [
    {
     "data": {
      "text/plain": [
       "<Axes: xlabel='duration_ms', ylabel='Count'>"
      ]
     },
     "execution_count": 29,
     "metadata": {},
     "output_type": "execute_result"
    },
    {
     "data": {
      "image/png": "[encoded data removed]",
      "text/plain": [
       "<Figure size 432x288 with 1 Axes>"
      ]
     },
     "metadata": {
      "needs_background": "light"
     },
     "output_type": "display_data"
    }
   ],
   "source": [
    "sns.histplot(df[\"duration_ms\"])"
   ]
  },
  {
   "cell_type": "code",
   "execution_count": 30,
   "metadata": {},
   "outputs": [
    {
     "name": "stdout",
     "output_type": "stream",
     "text": [
      "97616.81921918818\n",
      "119.7068435980545\n",
      "5.612641293591713\n"
     ]
    }
   ],
   "source": [
    "print(df[\"duration_ms\"].std()) # dev std\n",
    "print(df[\"duration_ms\"].kurt()) # kurtosis\n",
    "print(df[\"duration_ms\"].skew()) # skewness"
   ]
  },
  {
   "cell_type": "code",
   "execution_count": 31,
   "metadata": {},
   "outputs": [
    {
     "data": {
      "text/plain": [
       "<Axes: >"
      ]
     },
     "execution_count": 31,
     "metadata": {},
     "output_type": "execute_result"
    },
    {
     "data": {
      "image/png": "[encoded data removed]",
      "text/plain": [
       "<Figure size 432x288 with 1 Axes>"
      ]
     },
     "metadata": {
      "needs_background": "light"
     },
     "output_type": "display_data"
    }
   ],
   "source": [
    "sns.boxplot(df[\"duration_ms\"], orient=\"h\")"
   ]
  },
  {
   "cell_type": "code",
   "execution_count": 32,
   "metadata": {},
   "outputs": [
    {
     "data": {
      "text/plain": [
       "<Axes: xlabel='n_beats', ylabel='Count'>"
      ]
     },
     "execution_count": 32,
     "metadata": {},
     "output_type": "execute_result"
    },
    {
     "data": {
      "image/png": "[encoded data removed]",
      "text/plain": [
       "<Figure size 432x288 with 1 Axes>"
      ]
     },
     "metadata": {
      "needs_background": "light"
     },
     "output_type": "display_data"
    }
   ],
   "source": [
    "sns.histplot(df[\"n_beats\"])"
   ]
  },
  {
   "cell_type": "code",
   "execution_count": 33,
   "metadata": {},
   "outputs": [
    {
     "name": "stdout",
     "output_type": "stream",
     "text": [
      "224.65231827449543\n",
      "56.49495288951307\n",
      "3.529232530155651\n"
     ]
    }
   ],
   "source": [
    "print(df[\"n_beats\"].std()) # dev std\n",
    "print(df[\"n_beats\"].kurt()) # kurtosis\n",
    "print(df[\"n_beats\"].skew()) # skewness"
   ]
  },
  {
   "cell_type": "code",
   "execution_count": 34,
   "metadata": {},
   "outputs": [
    {
     "data": {
      "text/plain": [
       "<Axes: >"
      ]
     },
     "execution_count": 34,
     "metadata": {},
     "output_type": "execute_result"
    },
    {
     "data": {
      "image/png": "[encoded data removed]",
      "text/plain": [
       "<Figure size 432x288 with 1 Axes>"
      ]
     },
     "metadata": {
      "needs_background": "light"
     },
     "output_type": "display_data"
    }
   ],
   "source": [
    "sns.boxplot(df[\"n_beats\"], orient=\"h\")"
   ]
  },
  {
   "cell_type": "markdown",
   "metadata": {},
   "source": [
    "#### Correlazioni molto spurie (troppi outliers)...e probabilmente o si tiene fade_out o duration_ms (0.9997 come cosine sim)"
   ]
  }
 ],
 "metadata": {
  "kernelspec": {
   "display_name": "base",
   "language": "python",
   "name": "python3"
  },
  "language_info": {
   "codemirror_mode": {
    "name": "ipython",
    "version": 3
   },
   "file_extension": ".py",
   "mimetype": "text/x-python",
   "name": "python",
   "nbconvert_exporter": "python",
   "pygments_lexer": "ipython3",
   "version": "3.9.17"
  }
 },
 "nbformat": 4,
 "nbformat_minor": 2
}
