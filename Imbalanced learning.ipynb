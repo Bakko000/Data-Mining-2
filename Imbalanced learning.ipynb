{
 "cells": [
  {
   "cell_type": "code",
   "execution_count": 106,
   "id": "d3bb96cc",
   "metadata": {},
   "outputs": [],
   "source": [
    "import numpy as np\n",
    "import pandas as pd\n",
    "import seaborn as sns\n",
    "import matplotlib.pyplot as plt\n",
    "import sklearn\n",
    "\n",
    "from collections import Counter\n",
    "from collections import defaultdict"
   ]
  },
  {
   "cell_type": "code",
   "execution_count": 107,
   "id": "b02198ba",
   "metadata": {},
   "outputs": [],
   "source": [
    "dataset=pd.read_csv('nuovo_dataset_totale.csv')"
   ]
  },
  {
   "cell_type": "code",
   "execution_count": 108,
   "id": "fb705a7a",
   "metadata": {},
   "outputs": [
    {
     "data": {
      "text/plain": [
       "Index(['id', 'name', 'disc_number', 'duration_ms', 'explicit', 'popularity',\n",
       "       'track_number', 'artists', 'album_type', 'album_name',\n",
       "       'album_release_date', 'album_release_date_precision',\n",
       "       'album_total_tracks', 'danceability', 'energy', 'key', 'loudness',\n",
       "       'mode', 'speechiness', 'acousticness', 'instrumentalness', 'liveness',\n",
       "       'valence', 'tempo', 'time_signature', 'tempo_confidence',\n",
       "       'time_signature_confidence', 'key_confidence', 'mode_confidence',\n",
       "       'n_bars', 'genre', 'popularity_artist'],\n",
       "      dtype='object')"
      ]
     },
     "execution_count": 108,
     "metadata": {},
     "output_type": "execute_result"
    }
   ],
   "source": [
    "dataset.columns"
   ]
  },
  {
   "cell_type": "code",
   "execution_count": 109,
   "id": "e7fc3ed1",
   "metadata": {},
   "outputs": [
    {
     "data": {
      "text/html": [
       "<div>\n",
       "<style scoped>\n",
       "    .dataframe tbody tr th:only-of-type {\n",
       "        vertical-align: middle;\n",
       "    }\n",
       "\n",
       "    .dataframe tbody tr th {\n",
       "        vertical-align: top;\n",
       "    }\n",
       "\n",
       "    .dataframe thead th {\n",
       "        text-align: right;\n",
       "    }\n",
       "</style>\n",
       "<table border=\"1\" class=\"dataframe\">\n",
       "  <thead>\n",
       "    <tr style=\"text-align: right;\">\n",
       "      <th></th>\n",
       "      <th>id</th>\n",
       "      <th>name</th>\n",
       "      <th>disc_number</th>\n",
       "      <th>duration_ms</th>\n",
       "      <th>explicit</th>\n",
       "      <th>popularity</th>\n",
       "      <th>track_number</th>\n",
       "      <th>artists</th>\n",
       "      <th>album_type</th>\n",
       "      <th>album_name</th>\n",
       "      <th>...</th>\n",
       "      <th>valence</th>\n",
       "      <th>tempo</th>\n",
       "      <th>time_signature</th>\n",
       "      <th>tempo_confidence</th>\n",
       "      <th>time_signature_confidence</th>\n",
       "      <th>key_confidence</th>\n",
       "      <th>mode_confidence</th>\n",
       "      <th>n_bars</th>\n",
       "      <th>genre</th>\n",
       "      <th>popularity_artist</th>\n",
       "    </tr>\n",
       "  </thead>\n",
       "  <tbody>\n",
       "    <tr>\n",
       "      <th>0</th>\n",
       "      <td>4rjA5kJJWbwU1prXCvg6Fk</td>\n",
       "      <td>Grey</td>\n",
       "      <td>1.0</td>\n",
       "      <td>290.48</td>\n",
       "      <td>False</td>\n",
       "      <td>52.0</td>\n",
       "      <td>5.0</td>\n",
       "      <td>Kölsch</td>\n",
       "      <td>album</td>\n",
       "      <td>1989</td>\n",
       "      <td>...</td>\n",
       "      <td>0.24</td>\n",
       "      <td>186.00</td>\n",
       "      <td>3.0</td>\n",
       "      <td>0.02</td>\n",
       "      <td>1.00</td>\n",
       "      <td>0.50</td>\n",
       "      <td>0.52</td>\n",
       "      <td>234.0</td>\n",
       "      <td>minimal-techno</td>\n",
       "      <td>[51.0]</td>\n",
       "    </tr>\n",
       "    <tr>\n",
       "      <th>1</th>\n",
       "      <td>6xzpUzzIquIyUzTLbbgSdI</td>\n",
       "      <td>Thrown</td>\n",
       "      <td>1.0</td>\n",
       "      <td>539.23</td>\n",
       "      <td>False</td>\n",
       "      <td>45.0</td>\n",
       "      <td>5.0</td>\n",
       "      <td>Kiasmos</td>\n",
       "      <td>album</td>\n",
       "      <td>Kiasmos</td>\n",
       "      <td>...</td>\n",
       "      <td>0.14</td>\n",
       "      <td>120.02</td>\n",
       "      <td>4.0</td>\n",
       "      <td>0.68</td>\n",
       "      <td>0.33</td>\n",
       "      <td>0.41</td>\n",
       "      <td>0.59</td>\n",
       "      <td>269.0</td>\n",
       "      <td>minimal-techno</td>\n",
       "      <td>[47.0]</td>\n",
       "    </tr>\n",
       "    <tr>\n",
       "      <th>2</th>\n",
       "      <td>56tXgHlSHCfgmGhwVXNizc</td>\n",
       "      <td>Routine</td>\n",
       "      <td>1.0</td>\n",
       "      <td>264.20</td>\n",
       "      <td>False</td>\n",
       "      <td>39.0</td>\n",
       "      <td>5.0</td>\n",
       "      <td>Joris Delacroix</td>\n",
       "      <td>album</td>\n",
       "      <td>Night Visions</td>\n",
       "      <td>...</td>\n",
       "      <td>0.32</td>\n",
       "      <td>118.05</td>\n",
       "      <td>3.0</td>\n",
       "      <td>0.85</td>\n",
       "      <td>0.46</td>\n",
       "      <td>0.90</td>\n",
       "      <td>0.76</td>\n",
       "      <td>171.0</td>\n",
       "      <td>minimal-techno</td>\n",
       "      <td>[44.0]</td>\n",
       "    </tr>\n",
       "    <tr>\n",
       "      <th>3</th>\n",
       "      <td>0s3wIBczp6TdSJ2y8cveJl</td>\n",
       "      <td>Confronted - Anfisa Letyago Stranger Remix</td>\n",
       "      <td>1.0</td>\n",
       "      <td>387.41</td>\n",
       "      <td>False</td>\n",
       "      <td>0.0</td>\n",
       "      <td>6.0</td>\n",
       "      <td>Pan-Pot;Anfisa Letyago</td>\n",
       "      <td>single</td>\n",
       "      <td>Confronted Remixes</td>\n",
       "      <td>...</td>\n",
       "      <td>0.04</td>\n",
       "      <td>128.99</td>\n",
       "      <td>4.0</td>\n",
       "      <td>0.88</td>\n",
       "      <td>0.50</td>\n",
       "      <td>0.51</td>\n",
       "      <td>0.50</td>\n",
       "      <td>207.0</td>\n",
       "      <td>minimal-techno</td>\n",
       "      <td>[36.0, 40.0]</td>\n",
       "    </tr>\n",
       "    <tr>\n",
       "      <th>4</th>\n",
       "      <td>4PSbDDd1LRYMhqPXvza6I2</td>\n",
       "      <td>Jupiter Sunrise</td>\n",
       "      <td>1.0</td>\n",
       "      <td>248.96</td>\n",
       "      <td>False</td>\n",
       "      <td>0.0</td>\n",
       "      <td>1.0</td>\n",
       "      <td>Kollektiv Turmstrasse</td>\n",
       "      <td>compilation</td>\n",
       "      <td>10 Years Diynamic</td>\n",
       "      <td>...</td>\n",
       "      <td>0.12</td>\n",
       "      <td>120.00</td>\n",
       "      <td>4.0</td>\n",
       "      <td>0.88</td>\n",
       "      <td>1.00</td>\n",
       "      <td>0.47</td>\n",
       "      <td>0.46</td>\n",
       "      <td>123.0</td>\n",
       "      <td>minimal-techno</td>\n",
       "      <td>[45.0]</td>\n",
       "    </tr>\n",
       "    <tr>\n",
       "      <th>...</th>\n",
       "      <td>...</td>\n",
       "      <td>...</td>\n",
       "      <td>...</td>\n",
       "      <td>...</td>\n",
       "      <td>...</td>\n",
       "      <td>...</td>\n",
       "      <td>...</td>\n",
       "      <td>...</td>\n",
       "      <td>...</td>\n",
       "      <td>...</td>\n",
       "      <td>...</td>\n",
       "      <td>...</td>\n",
       "      <td>...</td>\n",
       "      <td>...</td>\n",
       "      <td>...</td>\n",
       "      <td>...</td>\n",
       "      <td>...</td>\n",
       "      <td>...</td>\n",
       "      <td>...</td>\n",
       "      <td>...</td>\n",
       "      <td>...</td>\n",
       "    </tr>\n",
       "    <tr>\n",
       "      <th>109144</th>\n",
       "      <td>0wiDjWz3U1WfwXSrWHXe2b</td>\n",
       "      <td>I'm Good (Blue) - REAPER Extended Remix</td>\n",
       "      <td>1.0</td>\n",
       "      <td>209.66</td>\n",
       "      <td>True</td>\n",
       "      <td>23.0</td>\n",
       "      <td>2.0</td>\n",
       "      <td>David Guetta;Bebe Rexha;REAPER</td>\n",
       "      <td>single</td>\n",
       "      <td>I'm Good (Blue) [REAPER Remix]</td>\n",
       "      <td>...</td>\n",
       "      <td>0.37</td>\n",
       "      <td>173.96</td>\n",
       "      <td>4.0</td>\n",
       "      <td>0.73</td>\n",
       "      <td>1.00</td>\n",
       "      <td>0.09</td>\n",
       "      <td>0.18</td>\n",
       "      <td>145.0</td>\n",
       "      <td>edm</td>\n",
       "      <td>[86.0, 79.0, 50.0]</td>\n",
       "    </tr>\n",
       "    <tr>\n",
       "      <th>109145</th>\n",
       "      <td>46n9OJc7LOIVdj8t2l5WA5</td>\n",
       "      <td>End Of The Night</td>\n",
       "      <td>1.0</td>\n",
       "      <td>205.72</td>\n",
       "      <td>True</td>\n",
       "      <td>56.0</td>\n",
       "      <td>1.0</td>\n",
       "      <td>Danny Avila</td>\n",
       "      <td>single</td>\n",
       "      <td>End Of The Night</td>\n",
       "      <td>...</td>\n",
       "      <td>0.31</td>\n",
       "      <td>99.97</td>\n",
       "      <td>4.0</td>\n",
       "      <td>0.71</td>\n",
       "      <td>1.00</td>\n",
       "      <td>0.40</td>\n",
       "      <td>0.54</td>\n",
       "      <td>84.0</td>\n",
       "      <td>edm</td>\n",
       "      <td>[47.0]</td>\n",
       "    </tr>\n",
       "    <tr>\n",
       "      <th>109146</th>\n",
       "      <td>127uq83uGFapbddqiMUKky</td>\n",
       "      <td>Sexy Bitch (feat. Akon)</td>\n",
       "      <td>1.0</td>\n",
       "      <td>195.85</td>\n",
       "      <td>True</td>\n",
       "      <td>80.0</td>\n",
       "      <td>3.0</td>\n",
       "      <td>David Guetta;Akon</td>\n",
       "      <td>album</td>\n",
       "      <td>One More Love</td>\n",
       "      <td>...</td>\n",
       "      <td>0.80</td>\n",
       "      <td>130.01</td>\n",
       "      <td>4.0</td>\n",
       "      <td>0.81</td>\n",
       "      <td>0.99</td>\n",
       "      <td>0.10</td>\n",
       "      <td>0.33</td>\n",
       "      <td>106.0</td>\n",
       "      <td>edm</td>\n",
       "      <td>[86.0, 79.0]</td>\n",
       "    </tr>\n",
       "    <tr>\n",
       "      <th>109147</th>\n",
       "      <td>0ZdUHFxifUJNqo7G4aJzoF</td>\n",
       "      <td>Savannah</td>\n",
       "      <td>1.0</td>\n",
       "      <td>208.70</td>\n",
       "      <td>False</td>\n",
       "      <td>60.0</td>\n",
       "      <td>1.0</td>\n",
       "      <td>Diviners;Philly K.</td>\n",
       "      <td>single</td>\n",
       "      <td>Savannah</td>\n",
       "      <td>...</td>\n",
       "      <td>0.39</td>\n",
       "      <td>108.07</td>\n",
       "      <td>4.0</td>\n",
       "      <td>0.65</td>\n",
       "      <td>1.00</td>\n",
       "      <td>0.55</td>\n",
       "      <td>0.60</td>\n",
       "      <td>89.0</td>\n",
       "      <td>edm</td>\n",
       "      <td>[47.0, 38.0]</td>\n",
       "    </tr>\n",
       "    <tr>\n",
       "      <th>109148</th>\n",
       "      <td>0M4HcGtxIWVVH4rSNp6XhQ</td>\n",
       "      <td>Dejalo</td>\n",
       "      <td>1.0</td>\n",
       "      <td>202.83</td>\n",
       "      <td>False</td>\n",
       "      <td>57.0</td>\n",
       "      <td>5.0</td>\n",
       "      <td>King</td>\n",
       "      <td>album</td>\n",
       "      <td>Champagne Talk</td>\n",
       "      <td>...</td>\n",
       "      <td>0.56</td>\n",
       "      <td>92.08</td>\n",
       "      <td>4.0</td>\n",
       "      <td>0.43</td>\n",
       "      <td>1.00</td>\n",
       "      <td>0.85</td>\n",
       "      <td>0.71</td>\n",
       "      <td>75.0</td>\n",
       "      <td>hip-hop</td>\n",
       "      <td>[71.0]</td>\n",
       "    </tr>\n",
       "  </tbody>\n",
       "</table>\n",
       "<p>109149 rows × 32 columns</p>\n",
       "</div>"
      ],
      "text/plain": [
       "                            id                                        name  \\\n",
       "0       4rjA5kJJWbwU1prXCvg6Fk                                        Grey   \n",
       "1       6xzpUzzIquIyUzTLbbgSdI                                      Thrown   \n",
       "2       56tXgHlSHCfgmGhwVXNizc                                     Routine   \n",
       "3       0s3wIBczp6TdSJ2y8cveJl  Confronted - Anfisa Letyago Stranger Remix   \n",
       "4       4PSbDDd1LRYMhqPXvza6I2                             Jupiter Sunrise   \n",
       "...                        ...                                         ...   \n",
       "109144  0wiDjWz3U1WfwXSrWHXe2b     I'm Good (Blue) - REAPER Extended Remix   \n",
       "109145  46n9OJc7LOIVdj8t2l5WA5                            End Of The Night   \n",
       "109146  127uq83uGFapbddqiMUKky                     Sexy Bitch (feat. Akon)   \n",
       "109147  0ZdUHFxifUJNqo7G4aJzoF                                    Savannah   \n",
       "109148  0M4HcGtxIWVVH4rSNp6XhQ                                      Dejalo   \n",
       "\n",
       "        disc_number  duration_ms  explicit  popularity  track_number  \\\n",
       "0               1.0       290.48     False        52.0           5.0   \n",
       "1               1.0       539.23     False        45.0           5.0   \n",
       "2               1.0       264.20     False        39.0           5.0   \n",
       "3               1.0       387.41     False         0.0           6.0   \n",
       "4               1.0       248.96     False         0.0           1.0   \n",
       "...             ...          ...       ...         ...           ...   \n",
       "109144          1.0       209.66      True        23.0           2.0   \n",
       "109145          1.0       205.72      True        56.0           1.0   \n",
       "109146          1.0       195.85      True        80.0           3.0   \n",
       "109147          1.0       208.70     False        60.0           1.0   \n",
       "109148          1.0       202.83     False        57.0           5.0   \n",
       "\n",
       "                               artists   album_type  \\\n",
       "0                               Kölsch        album   \n",
       "1                              Kiasmos        album   \n",
       "2                      Joris Delacroix        album   \n",
       "3               Pan-Pot;Anfisa Letyago       single   \n",
       "4                Kollektiv Turmstrasse  compilation   \n",
       "...                                ...          ...   \n",
       "109144  David Guetta;Bebe Rexha;REAPER       single   \n",
       "109145                     Danny Avila       single   \n",
       "109146               David Guetta;Akon        album   \n",
       "109147              Diviners;Philly K.       single   \n",
       "109148                            King        album   \n",
       "\n",
       "                            album_name  ... valence   tempo  time_signature  \\\n",
       "0                                 1989  ...    0.24  186.00             3.0   \n",
       "1                              Kiasmos  ...    0.14  120.02             4.0   \n",
       "2                        Night Visions  ...    0.32  118.05             3.0   \n",
       "3                   Confronted Remixes  ...    0.04  128.99             4.0   \n",
       "4                    10 Years Diynamic  ...    0.12  120.00             4.0   \n",
       "...                                ...  ...     ...     ...             ...   \n",
       "109144  I'm Good (Blue) [REAPER Remix]  ...    0.37  173.96             4.0   \n",
       "109145                End Of The Night  ...    0.31   99.97             4.0   \n",
       "109146                   One More Love  ...    0.80  130.01             4.0   \n",
       "109147                        Savannah  ...    0.39  108.07             4.0   \n",
       "109148                  Champagne Talk  ...    0.56   92.08             4.0   \n",
       "\n",
       "        tempo_confidence  time_signature_confidence  key_confidence  \\\n",
       "0                   0.02                       1.00            0.50   \n",
       "1                   0.68                       0.33            0.41   \n",
       "2                   0.85                       0.46            0.90   \n",
       "3                   0.88                       0.50            0.51   \n",
       "4                   0.88                       1.00            0.47   \n",
       "...                  ...                        ...             ...   \n",
       "109144              0.73                       1.00            0.09   \n",
       "109145              0.71                       1.00            0.40   \n",
       "109146              0.81                       0.99            0.10   \n",
       "109147              0.65                       1.00            0.55   \n",
       "109148              0.43                       1.00            0.85   \n",
       "\n",
       "        mode_confidence  n_bars           genre   popularity_artist  \n",
       "0                  0.52   234.0  minimal-techno              [51.0]  \n",
       "1                  0.59   269.0  minimal-techno              [47.0]  \n",
       "2                  0.76   171.0  minimal-techno              [44.0]  \n",
       "3                  0.50   207.0  minimal-techno        [36.0, 40.0]  \n",
       "4                  0.46   123.0  minimal-techno              [45.0]  \n",
       "...                 ...     ...             ...                 ...  \n",
       "109144             0.18   145.0             edm  [86.0, 79.0, 50.0]  \n",
       "109145             0.54    84.0             edm              [47.0]  \n",
       "109146             0.33   106.0             edm        [86.0, 79.0]  \n",
       "109147             0.60    89.0             edm        [47.0, 38.0]  \n",
       "109148             0.71    75.0         hip-hop              [71.0]  \n",
       "\n",
       "[109149 rows x 32 columns]"
      ]
     },
     "execution_count": 109,
     "metadata": {},
     "output_type": "execute_result"
    }
   ],
   "source": [
    "dataset"
   ]
  },
  {
   "cell_type": "code",
   "execution_count": 110,
   "id": "51e0bd4a",
   "metadata": {},
   "outputs": [
    {
     "data": {
      "text/plain": [
       "109149"
      ]
     },
     "execution_count": 110,
     "metadata": {},
     "output_type": "execute_result"
    }
   ],
   "source": [
    "len(dataset)"
   ]
  },
  {
   "cell_type": "code",
   "execution_count": 111,
   "id": "f94ee98a",
   "metadata": {},
   "outputs": [],
   "source": [
    "from sklearn.neighbors import KNeighborsClassifier"
   ]
  },
  {
   "cell_type": "code",
   "execution_count": 112,
   "id": "45f66222",
   "metadata": {},
   "outputs": [],
   "source": [
    "from sklearn.model_selection import train_test_split"
   ]
  },
  {
   "cell_type": "code",
   "execution_count": 113,
   "id": "2cd4f2c1",
   "metadata": {},
   "outputs": [],
   "source": [
    "dataset=dataset.drop(['id'], axis=1)"
   ]
  },
  {
   "cell_type": "code",
   "execution_count": 114,
   "id": "fc3cdfc3",
   "metadata": {},
   "outputs": [
    {
     "data": {
      "text/html": [
       "<div>\n",
       "<style scoped>\n",
       "    .dataframe tbody tr th:only-of-type {\n",
       "        vertical-align: middle;\n",
       "    }\n",
       "\n",
       "    .dataframe tbody tr th {\n",
       "        vertical-align: top;\n",
       "    }\n",
       "\n",
       "    .dataframe thead th {\n",
       "        text-align: right;\n",
       "    }\n",
       "</style>\n",
       "<table border=\"1\" class=\"dataframe\">\n",
       "  <thead>\n",
       "    <tr style=\"text-align: right;\">\n",
       "      <th></th>\n",
       "      <th>name</th>\n",
       "      <th>disc_number</th>\n",
       "      <th>duration_ms</th>\n",
       "      <th>explicit</th>\n",
       "      <th>popularity</th>\n",
       "      <th>track_number</th>\n",
       "      <th>artists</th>\n",
       "      <th>album_type</th>\n",
       "      <th>album_name</th>\n",
       "      <th>album_release_date</th>\n",
       "      <th>...</th>\n",
       "      <th>valence</th>\n",
       "      <th>tempo</th>\n",
       "      <th>time_signature</th>\n",
       "      <th>tempo_confidence</th>\n",
       "      <th>time_signature_confidence</th>\n",
       "      <th>key_confidence</th>\n",
       "      <th>mode_confidence</th>\n",
       "      <th>n_bars</th>\n",
       "      <th>genre</th>\n",
       "      <th>popularity_artist</th>\n",
       "    </tr>\n",
       "  </thead>\n",
       "  <tbody>\n",
       "    <tr>\n",
       "      <th>0</th>\n",
       "      <td>Grey</td>\n",
       "      <td>1.0</td>\n",
       "      <td>290.48</td>\n",
       "      <td>False</td>\n",
       "      <td>52.0</td>\n",
       "      <td>5.0</td>\n",
       "      <td>Kölsch</td>\n",
       "      <td>album</td>\n",
       "      <td>1989</td>\n",
       "      <td>2017-09-22</td>\n",
       "      <td>...</td>\n",
       "      <td>0.24</td>\n",
       "      <td>186.00</td>\n",
       "      <td>3.0</td>\n",
       "      <td>0.02</td>\n",
       "      <td>1.00</td>\n",
       "      <td>0.50</td>\n",
       "      <td>0.52</td>\n",
       "      <td>234.0</td>\n",
       "      <td>minimal-techno</td>\n",
       "      <td>[51.0]</td>\n",
       "    </tr>\n",
       "    <tr>\n",
       "      <th>1</th>\n",
       "      <td>Thrown</td>\n",
       "      <td>1.0</td>\n",
       "      <td>539.23</td>\n",
       "      <td>False</td>\n",
       "      <td>45.0</td>\n",
       "      <td>5.0</td>\n",
       "      <td>Kiasmos</td>\n",
       "      <td>album</td>\n",
       "      <td>Kiasmos</td>\n",
       "      <td>2014-10-27</td>\n",
       "      <td>...</td>\n",
       "      <td>0.14</td>\n",
       "      <td>120.02</td>\n",
       "      <td>4.0</td>\n",
       "      <td>0.68</td>\n",
       "      <td>0.33</td>\n",
       "      <td>0.41</td>\n",
       "      <td>0.59</td>\n",
       "      <td>269.0</td>\n",
       "      <td>minimal-techno</td>\n",
       "      <td>[47.0]</td>\n",
       "    </tr>\n",
       "    <tr>\n",
       "      <th>2</th>\n",
       "      <td>Routine</td>\n",
       "      <td>1.0</td>\n",
       "      <td>264.20</td>\n",
       "      <td>False</td>\n",
       "      <td>39.0</td>\n",
       "      <td>5.0</td>\n",
       "      <td>Joris Delacroix</td>\n",
       "      <td>album</td>\n",
       "      <td>Night Visions</td>\n",
       "      <td>2018-06-22</td>\n",
       "      <td>...</td>\n",
       "      <td>0.32</td>\n",
       "      <td>118.05</td>\n",
       "      <td>3.0</td>\n",
       "      <td>0.85</td>\n",
       "      <td>0.46</td>\n",
       "      <td>0.90</td>\n",
       "      <td>0.76</td>\n",
       "      <td>171.0</td>\n",
       "      <td>minimal-techno</td>\n",
       "      <td>[44.0]</td>\n",
       "    </tr>\n",
       "    <tr>\n",
       "      <th>3</th>\n",
       "      <td>Confronted - Anfisa Letyago Stranger Remix</td>\n",
       "      <td>1.0</td>\n",
       "      <td>387.41</td>\n",
       "      <td>False</td>\n",
       "      <td>0.0</td>\n",
       "      <td>6.0</td>\n",
       "      <td>Pan-Pot;Anfisa Letyago</td>\n",
       "      <td>single</td>\n",
       "      <td>Confronted Remixes</td>\n",
       "      <td>2019-12-06</td>\n",
       "      <td>...</td>\n",
       "      <td>0.04</td>\n",
       "      <td>128.99</td>\n",
       "      <td>4.0</td>\n",
       "      <td>0.88</td>\n",
       "      <td>0.50</td>\n",
       "      <td>0.51</td>\n",
       "      <td>0.50</td>\n",
       "      <td>207.0</td>\n",
       "      <td>minimal-techno</td>\n",
       "      <td>[36.0, 40.0]</td>\n",
       "    </tr>\n",
       "    <tr>\n",
       "      <th>4</th>\n",
       "      <td>Jupiter Sunrise</td>\n",
       "      <td>1.0</td>\n",
       "      <td>248.96</td>\n",
       "      <td>False</td>\n",
       "      <td>0.0</td>\n",
       "      <td>1.0</td>\n",
       "      <td>Kollektiv Turmstrasse</td>\n",
       "      <td>compilation</td>\n",
       "      <td>10 Years Diynamic</td>\n",
       "      <td>2016-09-16</td>\n",
       "      <td>...</td>\n",
       "      <td>0.12</td>\n",
       "      <td>120.00</td>\n",
       "      <td>4.0</td>\n",
       "      <td>0.88</td>\n",
       "      <td>1.00</td>\n",
       "      <td>0.47</td>\n",
       "      <td>0.46</td>\n",
       "      <td>123.0</td>\n",
       "      <td>minimal-techno</td>\n",
       "      <td>[45.0]</td>\n",
       "    </tr>\n",
       "    <tr>\n",
       "      <th>...</th>\n",
       "      <td>...</td>\n",
       "      <td>...</td>\n",
       "      <td>...</td>\n",
       "      <td>...</td>\n",
       "      <td>...</td>\n",
       "      <td>...</td>\n",
       "      <td>...</td>\n",
       "      <td>...</td>\n",
       "      <td>...</td>\n",
       "      <td>...</td>\n",
       "      <td>...</td>\n",
       "      <td>...</td>\n",
       "      <td>...</td>\n",
       "      <td>...</td>\n",
       "      <td>...</td>\n",
       "      <td>...</td>\n",
       "      <td>...</td>\n",
       "      <td>...</td>\n",
       "      <td>...</td>\n",
       "      <td>...</td>\n",
       "      <td>...</td>\n",
       "    </tr>\n",
       "    <tr>\n",
       "      <th>109144</th>\n",
       "      <td>I'm Good (Blue) - REAPER Extended Remix</td>\n",
       "      <td>1.0</td>\n",
       "      <td>209.66</td>\n",
       "      <td>True</td>\n",
       "      <td>23.0</td>\n",
       "      <td>2.0</td>\n",
       "      <td>David Guetta;Bebe Rexha;REAPER</td>\n",
       "      <td>single</td>\n",
       "      <td>I'm Good (Blue) [REAPER Remix]</td>\n",
       "      <td>2022-10-21</td>\n",
       "      <td>...</td>\n",
       "      <td>0.37</td>\n",
       "      <td>173.96</td>\n",
       "      <td>4.0</td>\n",
       "      <td>0.73</td>\n",
       "      <td>1.00</td>\n",
       "      <td>0.09</td>\n",
       "      <td>0.18</td>\n",
       "      <td>145.0</td>\n",
       "      <td>edm</td>\n",
       "      <td>[86.0, 79.0, 50.0]</td>\n",
       "    </tr>\n",
       "    <tr>\n",
       "      <th>109145</th>\n",
       "      <td>End Of The Night</td>\n",
       "      <td>1.0</td>\n",
       "      <td>205.72</td>\n",
       "      <td>True</td>\n",
       "      <td>56.0</td>\n",
       "      <td>1.0</td>\n",
       "      <td>Danny Avila</td>\n",
       "      <td>single</td>\n",
       "      <td>End Of The Night</td>\n",
       "      <td>2018-11-16</td>\n",
       "      <td>...</td>\n",
       "      <td>0.31</td>\n",
       "      <td>99.97</td>\n",
       "      <td>4.0</td>\n",
       "      <td>0.71</td>\n",
       "      <td>1.00</td>\n",
       "      <td>0.40</td>\n",
       "      <td>0.54</td>\n",
       "      <td>84.0</td>\n",
       "      <td>edm</td>\n",
       "      <td>[47.0]</td>\n",
       "    </tr>\n",
       "    <tr>\n",
       "      <th>109146</th>\n",
       "      <td>Sexy Bitch (feat. Akon)</td>\n",
       "      <td>1.0</td>\n",
       "      <td>195.85</td>\n",
       "      <td>True</td>\n",
       "      <td>80.0</td>\n",
       "      <td>3.0</td>\n",
       "      <td>David Guetta;Akon</td>\n",
       "      <td>album</td>\n",
       "      <td>One More Love</td>\n",
       "      <td>2010-11-22</td>\n",
       "      <td>...</td>\n",
       "      <td>0.80</td>\n",
       "      <td>130.01</td>\n",
       "      <td>4.0</td>\n",
       "      <td>0.81</td>\n",
       "      <td>0.99</td>\n",
       "      <td>0.10</td>\n",
       "      <td>0.33</td>\n",
       "      <td>106.0</td>\n",
       "      <td>edm</td>\n",
       "      <td>[86.0, 79.0]</td>\n",
       "    </tr>\n",
       "    <tr>\n",
       "      <th>109147</th>\n",
       "      <td>Savannah</td>\n",
       "      <td>1.0</td>\n",
       "      <td>208.70</td>\n",
       "      <td>False</td>\n",
       "      <td>60.0</td>\n",
       "      <td>1.0</td>\n",
       "      <td>Diviners;Philly K.</td>\n",
       "      <td>single</td>\n",
       "      <td>Savannah</td>\n",
       "      <td>2015-11-25</td>\n",
       "      <td>...</td>\n",
       "      <td>0.39</td>\n",
       "      <td>108.07</td>\n",
       "      <td>4.0</td>\n",
       "      <td>0.65</td>\n",
       "      <td>1.00</td>\n",
       "      <td>0.55</td>\n",
       "      <td>0.60</td>\n",
       "      <td>89.0</td>\n",
       "      <td>edm</td>\n",
       "      <td>[47.0, 38.0]</td>\n",
       "    </tr>\n",
       "    <tr>\n",
       "      <th>109148</th>\n",
       "      <td>Dejalo</td>\n",
       "      <td>1.0</td>\n",
       "      <td>202.83</td>\n",
       "      <td>False</td>\n",
       "      <td>57.0</td>\n",
       "      <td>5.0</td>\n",
       "      <td>King</td>\n",
       "      <td>album</td>\n",
       "      <td>Champagne Talk</td>\n",
       "      <td>2022-10-12</td>\n",
       "      <td>...</td>\n",
       "      <td>0.56</td>\n",
       "      <td>92.08</td>\n",
       "      <td>4.0</td>\n",
       "      <td>0.43</td>\n",
       "      <td>1.00</td>\n",
       "      <td>0.85</td>\n",
       "      <td>0.71</td>\n",
       "      <td>75.0</td>\n",
       "      <td>hip-hop</td>\n",
       "      <td>[71.0]</td>\n",
       "    </tr>\n",
       "  </tbody>\n",
       "</table>\n",
       "<p>109149 rows × 31 columns</p>\n",
       "</div>"
      ],
      "text/plain": [
       "                                              name  disc_number  duration_ms  \\\n",
       "0                                             Grey          1.0       290.48   \n",
       "1                                           Thrown          1.0       539.23   \n",
       "2                                          Routine          1.0       264.20   \n",
       "3       Confronted - Anfisa Letyago Stranger Remix          1.0       387.41   \n",
       "4                                  Jupiter Sunrise          1.0       248.96   \n",
       "...                                            ...          ...          ...   \n",
       "109144     I'm Good (Blue) - REAPER Extended Remix          1.0       209.66   \n",
       "109145                            End Of The Night          1.0       205.72   \n",
       "109146                     Sexy Bitch (feat. Akon)          1.0       195.85   \n",
       "109147                                    Savannah          1.0       208.70   \n",
       "109148                                      Dejalo          1.0       202.83   \n",
       "\n",
       "        explicit  popularity  track_number                         artists  \\\n",
       "0          False        52.0           5.0                          Kölsch   \n",
       "1          False        45.0           5.0                         Kiasmos   \n",
       "2          False        39.0           5.0                 Joris Delacroix   \n",
       "3          False         0.0           6.0          Pan-Pot;Anfisa Letyago   \n",
       "4          False         0.0           1.0           Kollektiv Turmstrasse   \n",
       "...          ...         ...           ...                             ...   \n",
       "109144      True        23.0           2.0  David Guetta;Bebe Rexha;REAPER   \n",
       "109145      True        56.0           1.0                     Danny Avila   \n",
       "109146      True        80.0           3.0               David Guetta;Akon   \n",
       "109147     False        60.0           1.0              Diviners;Philly K.   \n",
       "109148     False        57.0           5.0                            King   \n",
       "\n",
       "         album_type                      album_name album_release_date  ...  \\\n",
       "0             album                            1989         2017-09-22  ...   \n",
       "1             album                         Kiasmos         2014-10-27  ...   \n",
       "2             album                   Night Visions         2018-06-22  ...   \n",
       "3            single              Confronted Remixes         2019-12-06  ...   \n",
       "4       compilation               10 Years Diynamic         2016-09-16  ...   \n",
       "...             ...                             ...                ...  ...   \n",
       "109144       single  I'm Good (Blue) [REAPER Remix]         2022-10-21  ...   \n",
       "109145       single                End Of The Night         2018-11-16  ...   \n",
       "109146        album                   One More Love         2010-11-22  ...   \n",
       "109147       single                        Savannah         2015-11-25  ...   \n",
       "109148        album                  Champagne Talk         2022-10-12  ...   \n",
       "\n",
       "       valence   tempo  time_signature  tempo_confidence  \\\n",
       "0         0.24  186.00             3.0              0.02   \n",
       "1         0.14  120.02             4.0              0.68   \n",
       "2         0.32  118.05             3.0              0.85   \n",
       "3         0.04  128.99             4.0              0.88   \n",
       "4         0.12  120.00             4.0              0.88   \n",
       "...        ...     ...             ...               ...   \n",
       "109144    0.37  173.96             4.0              0.73   \n",
       "109145    0.31   99.97             4.0              0.71   \n",
       "109146    0.80  130.01             4.0              0.81   \n",
       "109147    0.39  108.07             4.0              0.65   \n",
       "109148    0.56   92.08             4.0              0.43   \n",
       "\n",
       "        time_signature_confidence  key_confidence  mode_confidence  n_bars  \\\n",
       "0                            1.00            0.50             0.52   234.0   \n",
       "1                            0.33            0.41             0.59   269.0   \n",
       "2                            0.46            0.90             0.76   171.0   \n",
       "3                            0.50            0.51             0.50   207.0   \n",
       "4                            1.00            0.47             0.46   123.0   \n",
       "...                           ...             ...              ...     ...   \n",
       "109144                       1.00            0.09             0.18   145.0   \n",
       "109145                       1.00            0.40             0.54    84.0   \n",
       "109146                       0.99            0.10             0.33   106.0   \n",
       "109147                       1.00            0.55             0.60    89.0   \n",
       "109148                       1.00            0.85             0.71    75.0   \n",
       "\n",
       "                 genre   popularity_artist  \n",
       "0       minimal-techno              [51.0]  \n",
       "1       minimal-techno              [47.0]  \n",
       "2       minimal-techno              [44.0]  \n",
       "3       minimal-techno        [36.0, 40.0]  \n",
       "4       minimal-techno              [45.0]  \n",
       "...                ...                 ...  \n",
       "109144             edm  [86.0, 79.0, 50.0]  \n",
       "109145             edm              [47.0]  \n",
       "109146             edm        [86.0, 79.0]  \n",
       "109147             edm        [47.0, 38.0]  \n",
       "109148         hip-hop              [71.0]  \n",
       "\n",
       "[109149 rows x 31 columns]"
      ]
     },
     "execution_count": 114,
     "metadata": {},
     "output_type": "execute_result"
    }
   ],
   "source": [
    "dataset"
   ]
  },
  {
   "cell_type": "code",
   "execution_count": 115,
   "id": "56fdf1f7",
   "metadata": {},
   "outputs": [
    {
     "data": {
      "text/plain": [
       "Index(['name', 'disc_number', 'duration_ms', 'explicit', 'popularity',\n",
       "       'track_number', 'artists', 'album_type', 'album_name',\n",
       "       'album_release_date', 'album_release_date_precision',\n",
       "       'album_total_tracks', 'danceability', 'energy', 'key', 'loudness',\n",
       "       'mode', 'speechiness', 'acousticness', 'instrumentalness', 'liveness',\n",
       "       'valence', 'tempo', 'time_signature', 'tempo_confidence',\n",
       "       'time_signature_confidence', 'key_confidence', 'mode_confidence',\n",
       "       'n_bars', 'genre', 'popularity_artist'],\n",
       "      dtype='object')"
      ]
     },
     "execution_count": 115,
     "metadata": {},
     "output_type": "execute_result"
    }
   ],
   "source": [
    "dataset.columns"
   ]
  },
  {
   "cell_type": "code",
   "execution_count": 116,
   "id": "d2d85f9e",
   "metadata": {},
   "outputs": [],
   "source": [
    "# Funzione per trasformare le stringhe in liste di float\n",
    "def trasforma_in_lista(lst_str):\n",
    "    # Rimuovi i caratteri '[' e ']' e splitta la stringa\n",
    "    lst_str = lst_str.strip('][').split(', ')\n",
    "    # Utilizza eval per valutare la lista di stringhe e convertirla in una lista di float\n",
    "    return [float(x) for x in lst_str]\n",
    "\n",
    "# Applica la funzione a ciascun valore nella colonna\n",
    "dataset['popularity_artist'] = dataset['popularity_artist'].apply(trasforma_in_lista)\n",
    "\n",
    "# Calcola la media di ciascuna lista\n",
    "dataset['popularity_artist'] = round(dataset['popularity_artist'].apply(np.mean),2)\n"
   ]
  },
  {
   "cell_type": "code",
   "execution_count": 117,
   "id": "f97c355c",
   "metadata": {},
   "outputs": [],
   "source": [
    "\n",
    "\n",
    "# Define a function to assign class labels\n",
    "def assign_class(genre):\n",
    "    if genre in ['Hip hop', 'house', 'Black metal', 'techno', 'electronic', \n",
    "                 'Hard rock', 'heavy-metal', 'metal', 'rock', 'reggaeton']:\n",
    "        return 1  # Agitato\n",
    "    elif genre in ['ambient', 'sleep', 'study', 'sad', 'romance', 'chill', \n",
    "                   'classical', 'piano', 'opera', 'acoustic']:\n",
    "        return 0  # Lento\n",
    "    else:\n",
    "        return None  # Unknown or other genre\n",
    "\n",
    "# Add a new column \"class\" to the original DataFrame\n",
    "dataset['class'] = dataset['genre'].apply(assign_class)\n",
    "\n",
    "# Drop rows with unknown or other genres\n",
    "dataset.dropna(subset=['class'], inplace=True)\n",
    "\n",
    "# Convert the \"class\" column to integer type\n",
    "dataset['class'] = dataset['class'].astype(int)\n",
    "\n",
    "y=dataset[\"class\"]\n",
    "\n",
    "# Funzione per trasformare le stringhe in liste di float\n",
    "def trasforma_in_lista(lst_str):\n",
    "    # Rimuovi i caratteri '[' e ']' e splitta la stringa\n",
    "    lst_str = lst_str.strip('][').split(', ')\n",
    "    # Utilizza eval per valutare la lista di stringhe e convertirla in una lista di float\n",
    "    return [float(x) for x in lst_str]\n",
    "\n",
    "\n",
    "X=dataset.drop(['class', 'name', 'explicit', 'artists', 'disc_number','album_type', 'album_release_date', 'album_release_date_precision',\n",
    "       'album_total_tracks', 'album_name', 'mode_confidence', 'genre'], axis=1)"
   ]
  },
  {
   "cell_type": "code",
   "execution_count": 118,
   "id": "4205b9ef",
   "metadata": {},
   "outputs": [
    {
     "data": {
      "text/html": [
       "<div>\n",
       "<style scoped>\n",
       "    .dataframe tbody tr th:only-of-type {\n",
       "        vertical-align: middle;\n",
       "    }\n",
       "\n",
       "    .dataframe tbody tr th {\n",
       "        vertical-align: top;\n",
       "    }\n",
       "\n",
       "    .dataframe thead th {\n",
       "        text-align: right;\n",
       "    }\n",
       "</style>\n",
       "<table border=\"1\" class=\"dataframe\">\n",
       "  <thead>\n",
       "    <tr style=\"text-align: right;\">\n",
       "      <th></th>\n",
       "      <th>name</th>\n",
       "      <th>disc_number</th>\n",
       "      <th>duration_ms</th>\n",
       "      <th>explicit</th>\n",
       "      <th>popularity</th>\n",
       "      <th>track_number</th>\n",
       "      <th>artists</th>\n",
       "      <th>album_type</th>\n",
       "      <th>album_name</th>\n",
       "      <th>album_release_date</th>\n",
       "      <th>...</th>\n",
       "      <th>tempo</th>\n",
       "      <th>time_signature</th>\n",
       "      <th>tempo_confidence</th>\n",
       "      <th>time_signature_confidence</th>\n",
       "      <th>key_confidence</th>\n",
       "      <th>mode_confidence</th>\n",
       "      <th>n_bars</th>\n",
       "      <th>genre</th>\n",
       "      <th>popularity_artist</th>\n",
       "      <th>class</th>\n",
       "    </tr>\n",
       "  </thead>\n",
       "  <tbody>\n",
       "    <tr>\n",
       "      <th>2016</th>\n",
       "      <td>Closer</td>\n",
       "      <td>1.0</td>\n",
       "      <td>244.96</td>\n",
       "      <td>False</td>\n",
       "      <td>86.0</td>\n",
       "      <td>1.0</td>\n",
       "      <td>The Chainsmokers;Halsey</td>\n",
       "      <td>single</td>\n",
       "      <td>Closer</td>\n",
       "      <td>2016-07-29</td>\n",
       "      <td>...</td>\n",
       "      <td>95.01</td>\n",
       "      <td>4.0</td>\n",
       "      <td>0.31</td>\n",
       "      <td>1.00</td>\n",
       "      <td>0.64</td>\n",
       "      <td>0.62</td>\n",
       "      <td>94.0</td>\n",
       "      <td>house</td>\n",
       "      <td>79.0</td>\n",
       "      <td>1</td>\n",
       "    </tr>\n",
       "    <tr>\n",
       "      <th>2017</th>\n",
       "      <td>Goosebumps - Remix</td>\n",
       "      <td>1.0</td>\n",
       "      <td>162.80</td>\n",
       "      <td>True</td>\n",
       "      <td>81.0</td>\n",
       "      <td>1.0</td>\n",
       "      <td>Travis Scott;HVME</td>\n",
       "      <td>single</td>\n",
       "      <td>Goosebumps (Remix)</td>\n",
       "      <td>2021-01-15</td>\n",
       "      <td>...</td>\n",
       "      <td>124.92</td>\n",
       "      <td>4.0</td>\n",
       "      <td>0.78</td>\n",
       "      <td>1.00</td>\n",
       "      <td>0.30</td>\n",
       "      <td>0.54</td>\n",
       "      <td>83.0</td>\n",
       "      <td>house</td>\n",
       "      <td>78.0</td>\n",
       "      <td>1</td>\n",
       "    </tr>\n",
       "    <tr>\n",
       "      <th>2018</th>\n",
       "      <td>One Kiss (with Dua Lipa)</td>\n",
       "      <td>1.0</td>\n",
       "      <td>214.85</td>\n",
       "      <td>False</td>\n",
       "      <td>88.0</td>\n",
       "      <td>1.0</td>\n",
       "      <td>Calvin Harris;Dua Lipa</td>\n",
       "      <td>single</td>\n",
       "      <td>One Kiss (with Dua Lipa)</td>\n",
       "      <td>2018-04-06</td>\n",
       "      <td>...</td>\n",
       "      <td>123.99</td>\n",
       "      <td>4.0</td>\n",
       "      <td>0.93</td>\n",
       "      <td>1.00</td>\n",
       "      <td>0.63</td>\n",
       "      <td>0.62</td>\n",
       "      <td>108.0</td>\n",
       "      <td>house</td>\n",
       "      <td>85.0</td>\n",
       "      <td>1</td>\n",
       "    </tr>\n",
       "    <tr>\n",
       "      <th>2019</th>\n",
       "      <td>On My Way</td>\n",
       "      <td>1.0</td>\n",
       "      <td>193.80</td>\n",
       "      <td>True</td>\n",
       "      <td>75.0</td>\n",
       "      <td>1.0</td>\n",
       "      <td>Alan Walker;Sabrina Carpenter;Farruko</td>\n",
       "      <td>single</td>\n",
       "      <td>On My Way</td>\n",
       "      <td>2019-03-21</td>\n",
       "      <td>...</td>\n",
       "      <td>170.09</td>\n",
       "      <td>4.0</td>\n",
       "      <td>0.04</td>\n",
       "      <td>1.00</td>\n",
       "      <td>0.36</td>\n",
       "      <td>0.63</td>\n",
       "      <td>136.0</td>\n",
       "      <td>house</td>\n",
       "      <td>79.0</td>\n",
       "      <td>1</td>\n",
       "    </tr>\n",
       "    <tr>\n",
       "      <th>2020</th>\n",
       "      <td>Happier</td>\n",
       "      <td>1.0</td>\n",
       "      <td>214.29</td>\n",
       "      <td>False</td>\n",
       "      <td>85.0</td>\n",
       "      <td>1.0</td>\n",
       "      <td>Marshmello;Bastille</td>\n",
       "      <td>single</td>\n",
       "      <td>Happier</td>\n",
       "      <td>2018-08-17</td>\n",
       "      <td>...</td>\n",
       "      <td>100.02</td>\n",
       "      <td>4.0</td>\n",
       "      <td>0.31</td>\n",
       "      <td>0.99</td>\n",
       "      <td>0.56</td>\n",
       "      <td>0.59</td>\n",
       "      <td>88.0</td>\n",
       "      <td>house</td>\n",
       "      <td>76.5</td>\n",
       "      <td>1</td>\n",
       "    </tr>\n",
       "    <tr>\n",
       "      <th>...</th>\n",
       "      <td>...</td>\n",
       "      <td>...</td>\n",
       "      <td>...</td>\n",
       "      <td>...</td>\n",
       "      <td>...</td>\n",
       "      <td>...</td>\n",
       "      <td>...</td>\n",
       "      <td>...</td>\n",
       "      <td>...</td>\n",
       "      <td>...</td>\n",
       "      <td>...</td>\n",
       "      <td>...</td>\n",
       "      <td>...</td>\n",
       "      <td>...</td>\n",
       "      <td>...</td>\n",
       "      <td>...</td>\n",
       "      <td>...</td>\n",
       "      <td>...</td>\n",
       "      <td>...</td>\n",
       "      <td>...</td>\n",
       "      <td>...</td>\n",
       "    </tr>\n",
       "    <tr>\n",
       "      <th>99492</th>\n",
       "      <td>Draw A Crowd</td>\n",
       "      <td>1.0</td>\n",
       "      <td>254.35</td>\n",
       "      <td>False</td>\n",
       "      <td>30.0</td>\n",
       "      <td>6.0</td>\n",
       "      <td>Ben Folds Five</td>\n",
       "      <td>album</td>\n",
       "      <td>The Sound Of The Life Of The Mind</td>\n",
       "      <td>2012-09-18</td>\n",
       "      <td>...</td>\n",
       "      <td>112.21</td>\n",
       "      <td>4.0</td>\n",
       "      <td>0.84</td>\n",
       "      <td>1.00</td>\n",
       "      <td>0.43</td>\n",
       "      <td>0.57</td>\n",
       "      <td>117.0</td>\n",
       "      <td>piano</td>\n",
       "      <td>43.0</td>\n",
       "      <td>0</td>\n",
       "    </tr>\n",
       "    <tr>\n",
       "      <th>99493</th>\n",
       "      <td>Father in Heaven</td>\n",
       "      <td>2.0</td>\n",
       "      <td>147.63</td>\n",
       "      <td>False</td>\n",
       "      <td>29.0</td>\n",
       "      <td>8.0</td>\n",
       "      <td>Paul Cardall</td>\n",
       "      <td>album</td>\n",
       "      <td>40 Hymns for Forty Days</td>\n",
       "      <td>2015-04-14</td>\n",
       "      <td>...</td>\n",
       "      <td>76.49</td>\n",
       "      <td>4.0</td>\n",
       "      <td>0.28</td>\n",
       "      <td>0.11</td>\n",
       "      <td>0.55</td>\n",
       "      <td>0.66</td>\n",
       "      <td>46.0</td>\n",
       "      <td>piano</td>\n",
       "      <td>48.0</td>\n",
       "      <td>0</td>\n",
       "    </tr>\n",
       "    <tr>\n",
       "      <th>99494</th>\n",
       "      <td>Baby Lullaby</td>\n",
       "      <td>1.0</td>\n",
       "      <td>188.00</td>\n",
       "      <td>False</td>\n",
       "      <td>30.0</td>\n",
       "      <td>11.0</td>\n",
       "      <td>Piano Peace</td>\n",
       "      <td>album</td>\n",
       "      <td>Baby Lullaby Piano Sleep Music</td>\n",
       "      <td>2017-03-10</td>\n",
       "      <td>...</td>\n",
       "      <td>69.49</td>\n",
       "      <td>5.0</td>\n",
       "      <td>0.26</td>\n",
       "      <td>0.62</td>\n",
       "      <td>0.85</td>\n",
       "      <td>0.87</td>\n",
       "      <td>78.0</td>\n",
       "      <td>piano</td>\n",
       "      <td>61.0</td>\n",
       "      <td>0</td>\n",
       "    </tr>\n",
       "    <tr>\n",
       "      <th>99495</th>\n",
       "      <td>Young Man's Fancy</td>\n",
       "      <td>1.0</td>\n",
       "      <td>231.58</td>\n",
       "      <td>False</td>\n",
       "      <td>19.0</td>\n",
       "      <td>14.0</td>\n",
       "      <td>George Winston</td>\n",
       "      <td>album</td>\n",
       "      <td>Linus &amp; Lucy - The Music of Vince Guaraldi</td>\n",
       "      <td>1996-09-07</td>\n",
       "      <td>...</td>\n",
       "      <td>76.22</td>\n",
       "      <td>4.0</td>\n",
       "      <td>0.09</td>\n",
       "      <td>0.82</td>\n",
       "      <td>0.31</td>\n",
       "      <td>0.41</td>\n",
       "      <td>67.0</td>\n",
       "      <td>piano</td>\n",
       "      <td>47.0</td>\n",
       "      <td>0</td>\n",
       "    </tr>\n",
       "    <tr>\n",
       "      <th>99496</th>\n",
       "      <td>\"Farewell\" Jingle Bells</td>\n",
       "      <td>1.0</td>\n",
       "      <td>179.40</td>\n",
       "      <td>False</td>\n",
       "      <td>1.0</td>\n",
       "      <td>13.0</td>\n",
       "      <td>Dave Brubeck</td>\n",
       "      <td>album</td>\n",
       "      <td>A Dave Brubeck Christmas</td>\n",
       "      <td>1996-01-01</td>\n",
       "      <td>...</td>\n",
       "      <td>90.03</td>\n",
       "      <td>0.0</td>\n",
       "      <td>0.11</td>\n",
       "      <td>0.00</td>\n",
       "      <td>0.45</td>\n",
       "      <td>0.52</td>\n",
       "      <td>51.0</td>\n",
       "      <td>piano</td>\n",
       "      <td>48.0</td>\n",
       "      <td>0</td>\n",
       "    </tr>\n",
       "  </tbody>\n",
       "</table>\n",
       "<p>16807 rows × 32 columns</p>\n",
       "</div>"
      ],
      "text/plain": [
       "                           name  disc_number  duration_ms  explicit  \\\n",
       "2016                     Closer          1.0       244.96     False   \n",
       "2017         Goosebumps - Remix          1.0       162.80      True   \n",
       "2018   One Kiss (with Dua Lipa)          1.0       214.85     False   \n",
       "2019                  On My Way          1.0       193.80      True   \n",
       "2020                    Happier          1.0       214.29     False   \n",
       "...                         ...          ...          ...       ...   \n",
       "99492              Draw A Crowd          1.0       254.35     False   \n",
       "99493          Father in Heaven          2.0       147.63     False   \n",
       "99494              Baby Lullaby          1.0       188.00     False   \n",
       "99495         Young Man's Fancy          1.0       231.58     False   \n",
       "99496   \"Farewell\" Jingle Bells          1.0       179.40     False   \n",
       "\n",
       "       popularity  track_number                                artists  \\\n",
       "2016         86.0           1.0                The Chainsmokers;Halsey   \n",
       "2017         81.0           1.0                      Travis Scott;HVME   \n",
       "2018         88.0           1.0                 Calvin Harris;Dua Lipa   \n",
       "2019         75.0           1.0  Alan Walker;Sabrina Carpenter;Farruko   \n",
       "2020         85.0           1.0                    Marshmello;Bastille   \n",
       "...           ...           ...                                    ...   \n",
       "99492        30.0           6.0                         Ben Folds Five   \n",
       "99493        29.0           8.0                           Paul Cardall   \n",
       "99494        30.0          11.0                            Piano Peace   \n",
       "99495        19.0          14.0                         George Winston   \n",
       "99496         1.0          13.0                           Dave Brubeck   \n",
       "\n",
       "      album_type                                  album_name  \\\n",
       "2016      single                                      Closer   \n",
       "2017      single                          Goosebumps (Remix)   \n",
       "2018      single                    One Kiss (with Dua Lipa)   \n",
       "2019      single                                   On My Way   \n",
       "2020      single                                     Happier   \n",
       "...          ...                                         ...   \n",
       "99492      album           The Sound Of The Life Of The Mind   \n",
       "99493      album                     40 Hymns for Forty Days   \n",
       "99494      album              Baby Lullaby Piano Sleep Music   \n",
       "99495      album  Linus & Lucy - The Music of Vince Guaraldi   \n",
       "99496      album                    A Dave Brubeck Christmas   \n",
       "\n",
       "      album_release_date  ...   tempo  time_signature  tempo_confidence  \\\n",
       "2016          2016-07-29  ...   95.01             4.0              0.31   \n",
       "2017          2021-01-15  ...  124.92             4.0              0.78   \n",
       "2018          2018-04-06  ...  123.99             4.0              0.93   \n",
       "2019          2019-03-21  ...  170.09             4.0              0.04   \n",
       "2020          2018-08-17  ...  100.02             4.0              0.31   \n",
       "...                  ...  ...     ...             ...               ...   \n",
       "99492         2012-09-18  ...  112.21             4.0              0.84   \n",
       "99493         2015-04-14  ...   76.49             4.0              0.28   \n",
       "99494         2017-03-10  ...   69.49             5.0              0.26   \n",
       "99495         1996-09-07  ...   76.22             4.0              0.09   \n",
       "99496         1996-01-01  ...   90.03             0.0              0.11   \n",
       "\n",
       "       time_signature_confidence  key_confidence  mode_confidence  n_bars  \\\n",
       "2016                        1.00            0.64             0.62    94.0   \n",
       "2017                        1.00            0.30             0.54    83.0   \n",
       "2018                        1.00            0.63             0.62   108.0   \n",
       "2019                        1.00            0.36             0.63   136.0   \n",
       "2020                        0.99            0.56             0.59    88.0   \n",
       "...                          ...             ...              ...     ...   \n",
       "99492                       1.00            0.43             0.57   117.0   \n",
       "99493                       0.11            0.55             0.66    46.0   \n",
       "99494                       0.62            0.85             0.87    78.0   \n",
       "99495                       0.82            0.31             0.41    67.0   \n",
       "99496                       0.00            0.45             0.52    51.0   \n",
       "\n",
       "       genre  popularity_artist  class  \n",
       "2016   house               79.0      1  \n",
       "2017   house               78.0      1  \n",
       "2018   house               85.0      1  \n",
       "2019   house               79.0      1  \n",
       "2020   house               76.5      1  \n",
       "...      ...                ...    ...  \n",
       "99492  piano               43.0      0  \n",
       "99493  piano               48.0      0  \n",
       "99494  piano               61.0      0  \n",
       "99495  piano               47.0      0  \n",
       "99496  piano               48.0      0  \n",
       "\n",
       "[16807 rows x 32 columns]"
      ]
     },
     "execution_count": 118,
     "metadata": {},
     "output_type": "execute_result"
    }
   ],
   "source": [
    "dataset\n"
   ]
  },
  {
   "cell_type": "code",
   "execution_count": 119,
   "id": "fc24afe5",
   "metadata": {},
   "outputs": [
    {
     "data": {
      "text/plain": [
       "array(['house', 'ambient', 'sleep', 'study', 'techno', 'electronic',\n",
       "       'acoustic', 'heavy-metal', 'metal', 'reggaeton', 'rock', 'romance',\n",
       "       'sad', 'chill', 'classical', 'opera', 'piano'], dtype=object)"
      ]
     },
     "execution_count": 119,
     "metadata": {},
     "output_type": "execute_result"
    }
   ],
   "source": [
    "dataset['genre'].unique()"
   ]
  },
  {
   "cell_type": "code",
   "execution_count": 120,
   "id": "539e266d",
   "metadata": {},
   "outputs": [],
   "source": [
    "X_train, X_test, y_train, y_test = train_test_split(\n",
    "    X, y, test_size=0.2, random_state=72)\n"
   ]
  },
  {
   "cell_type": "code",
   "execution_count": 121,
   "id": "591c659c",
   "metadata": {},
   "outputs": [
    {
     "data": {
      "text/html": [
       "<div>\n",
       "<style scoped>\n",
       "    .dataframe tbody tr th:only-of-type {\n",
       "        vertical-align: middle;\n",
       "    }\n",
       "\n",
       "    .dataframe tbody tr th {\n",
       "        vertical-align: top;\n",
       "    }\n",
       "\n",
       "    .dataframe thead th {\n",
       "        text-align: right;\n",
       "    }\n",
       "</style>\n",
       "<table border=\"1\" class=\"dataframe\">\n",
       "  <thead>\n",
       "    <tr style=\"text-align: right;\">\n",
       "      <th></th>\n",
       "      <th>duration_ms</th>\n",
       "      <th>popularity</th>\n",
       "      <th>track_number</th>\n",
       "      <th>danceability</th>\n",
       "      <th>energy</th>\n",
       "      <th>key</th>\n",
       "      <th>loudness</th>\n",
       "      <th>mode</th>\n",
       "      <th>speechiness</th>\n",
       "      <th>acousticness</th>\n",
       "      <th>instrumentalness</th>\n",
       "      <th>liveness</th>\n",
       "      <th>valence</th>\n",
       "      <th>tempo</th>\n",
       "      <th>time_signature</th>\n",
       "      <th>tempo_confidence</th>\n",
       "      <th>time_signature_confidence</th>\n",
       "      <th>key_confidence</th>\n",
       "      <th>n_bars</th>\n",
       "      <th>popularity_artist</th>\n",
       "    </tr>\n",
       "  </thead>\n",
       "  <tbody>\n",
       "    <tr>\n",
       "      <th>2016</th>\n",
       "      <td>244.96</td>\n",
       "      <td>86.0</td>\n",
       "      <td>1.0</td>\n",
       "      <td>0.75</td>\n",
       "      <td>0.52</td>\n",
       "      <td>8.0</td>\n",
       "      <td>-5.60</td>\n",
       "      <td>1</td>\n",
       "      <td>0.03</td>\n",
       "      <td>0.41</td>\n",
       "      <td>0.00</td>\n",
       "      <td>0.11</td>\n",
       "      <td>0.66</td>\n",
       "      <td>95.01</td>\n",
       "      <td>4.0</td>\n",
       "      <td>0.31</td>\n",
       "      <td>1.00</td>\n",
       "      <td>0.64</td>\n",
       "      <td>94.0</td>\n",
       "      <td>79.0</td>\n",
       "    </tr>\n",
       "    <tr>\n",
       "      <th>2017</th>\n",
       "      <td>162.80</td>\n",
       "      <td>81.0</td>\n",
       "      <td>1.0</td>\n",
       "      <td>0.84</td>\n",
       "      <td>0.59</td>\n",
       "      <td>1.0</td>\n",
       "      <td>-7.85</td>\n",
       "      <td>1</td>\n",
       "      <td>0.04</td>\n",
       "      <td>0.42</td>\n",
       "      <td>0.00</td>\n",
       "      <td>0.12</td>\n",
       "      <td>0.81</td>\n",
       "      <td>124.92</td>\n",
       "      <td>4.0</td>\n",
       "      <td>0.78</td>\n",
       "      <td>1.00</td>\n",
       "      <td>0.30</td>\n",
       "      <td>83.0</td>\n",
       "      <td>78.0</td>\n",
       "    </tr>\n",
       "    <tr>\n",
       "      <th>2018</th>\n",
       "      <td>214.85</td>\n",
       "      <td>88.0</td>\n",
       "      <td>1.0</td>\n",
       "      <td>0.79</td>\n",
       "      <td>0.86</td>\n",
       "      <td>9.0</td>\n",
       "      <td>-3.24</td>\n",
       "      <td>0</td>\n",
       "      <td>0.11</td>\n",
       "      <td>0.04</td>\n",
       "      <td>0.00</td>\n",
       "      <td>0.08</td>\n",
       "      <td>0.59</td>\n",
       "      <td>123.99</td>\n",
       "      <td>4.0</td>\n",
       "      <td>0.93</td>\n",
       "      <td>1.00</td>\n",
       "      <td>0.63</td>\n",
       "      <td>108.0</td>\n",
       "      <td>85.0</td>\n",
       "    </tr>\n",
       "    <tr>\n",
       "      <th>2019</th>\n",
       "      <td>193.80</td>\n",
       "      <td>75.0</td>\n",
       "      <td>1.0</td>\n",
       "      <td>0.51</td>\n",
       "      <td>0.69</td>\n",
       "      <td>1.0</td>\n",
       "      <td>-4.93</td>\n",
       "      <td>0</td>\n",
       "      <td>0.10</td>\n",
       "      <td>0.02</td>\n",
       "      <td>0.00</td>\n",
       "      <td>0.30</td>\n",
       "      <td>0.30</td>\n",
       "      <td>170.09</td>\n",
       "      <td>4.0</td>\n",
       "      <td>0.04</td>\n",
       "      <td>1.00</td>\n",
       "      <td>0.36</td>\n",
       "      <td>136.0</td>\n",
       "      <td>79.0</td>\n",
       "    </tr>\n",
       "    <tr>\n",
       "      <th>2020</th>\n",
       "      <td>214.29</td>\n",
       "      <td>85.0</td>\n",
       "      <td>1.0</td>\n",
       "      <td>0.69</td>\n",
       "      <td>0.79</td>\n",
       "      <td>5.0</td>\n",
       "      <td>-2.75</td>\n",
       "      <td>1</td>\n",
       "      <td>0.05</td>\n",
       "      <td>0.19</td>\n",
       "      <td>0.00</td>\n",
       "      <td>0.17</td>\n",
       "      <td>0.67</td>\n",
       "      <td>100.02</td>\n",
       "      <td>4.0</td>\n",
       "      <td>0.31</td>\n",
       "      <td>0.99</td>\n",
       "      <td>0.56</td>\n",
       "      <td>88.0</td>\n",
       "      <td>76.5</td>\n",
       "    </tr>\n",
       "    <tr>\n",
       "      <th>...</th>\n",
       "      <td>...</td>\n",
       "      <td>...</td>\n",
       "      <td>...</td>\n",
       "      <td>...</td>\n",
       "      <td>...</td>\n",
       "      <td>...</td>\n",
       "      <td>...</td>\n",
       "      <td>...</td>\n",
       "      <td>...</td>\n",
       "      <td>...</td>\n",
       "      <td>...</td>\n",
       "      <td>...</td>\n",
       "      <td>...</td>\n",
       "      <td>...</td>\n",
       "      <td>...</td>\n",
       "      <td>...</td>\n",
       "      <td>...</td>\n",
       "      <td>...</td>\n",
       "      <td>...</td>\n",
       "      <td>...</td>\n",
       "    </tr>\n",
       "    <tr>\n",
       "      <th>99492</th>\n",
       "      <td>254.35</td>\n",
       "      <td>30.0</td>\n",
       "      <td>6.0</td>\n",
       "      <td>0.72</td>\n",
       "      <td>0.75</td>\n",
       "      <td>2.0</td>\n",
       "      <td>-6.90</td>\n",
       "      <td>0</td>\n",
       "      <td>0.04</td>\n",
       "      <td>0.10</td>\n",
       "      <td>0.00</td>\n",
       "      <td>0.05</td>\n",
       "      <td>0.68</td>\n",
       "      <td>112.21</td>\n",
       "      <td>4.0</td>\n",
       "      <td>0.84</td>\n",
       "      <td>1.00</td>\n",
       "      <td>0.43</td>\n",
       "      <td>117.0</td>\n",
       "      <td>43.0</td>\n",
       "    </tr>\n",
       "    <tr>\n",
       "      <th>99493</th>\n",
       "      <td>147.63</td>\n",
       "      <td>29.0</td>\n",
       "      <td>8.0</td>\n",
       "      <td>0.20</td>\n",
       "      <td>0.21</td>\n",
       "      <td>3.0</td>\n",
       "      <td>-12.77</td>\n",
       "      <td>1</td>\n",
       "      <td>0.04</td>\n",
       "      <td>0.90</td>\n",
       "      <td>0.89</td>\n",
       "      <td>0.14</td>\n",
       "      <td>0.04</td>\n",
       "      <td>76.49</td>\n",
       "      <td>4.0</td>\n",
       "      <td>0.28</td>\n",
       "      <td>0.11</td>\n",
       "      <td>0.55</td>\n",
       "      <td>46.0</td>\n",
       "      <td>48.0</td>\n",
       "    </tr>\n",
       "    <tr>\n",
       "      <th>99494</th>\n",
       "      <td>188.00</td>\n",
       "      <td>30.0</td>\n",
       "      <td>11.0</td>\n",
       "      <td>0.20</td>\n",
       "      <td>0.01</td>\n",
       "      <td>7.0</td>\n",
       "      <td>-29.80</td>\n",
       "      <td>1</td>\n",
       "      <td>0.05</td>\n",
       "      <td>0.99</td>\n",
       "      <td>0.90</td>\n",
       "      <td>0.08</td>\n",
       "      <td>0.14</td>\n",
       "      <td>69.49</td>\n",
       "      <td>5.0</td>\n",
       "      <td>0.26</td>\n",
       "      <td>0.62</td>\n",
       "      <td>0.85</td>\n",
       "      <td>78.0</td>\n",
       "      <td>61.0</td>\n",
       "    </tr>\n",
       "    <tr>\n",
       "      <th>99495</th>\n",
       "      <td>231.58</td>\n",
       "      <td>19.0</td>\n",
       "      <td>14.0</td>\n",
       "      <td>0.43</td>\n",
       "      <td>0.05</td>\n",
       "      <td>7.0</td>\n",
       "      <td>-17.12</td>\n",
       "      <td>0</td>\n",
       "      <td>0.05</td>\n",
       "      <td>0.99</td>\n",
       "      <td>0.95</td>\n",
       "      <td>0.09</td>\n",
       "      <td>0.06</td>\n",
       "      <td>76.22</td>\n",
       "      <td>4.0</td>\n",
       "      <td>0.09</td>\n",
       "      <td>0.82</td>\n",
       "      <td>0.31</td>\n",
       "      <td>67.0</td>\n",
       "      <td>47.0</td>\n",
       "    </tr>\n",
       "    <tr>\n",
       "      <th>99496</th>\n",
       "      <td>179.40</td>\n",
       "      <td>1.0</td>\n",
       "      <td>13.0</td>\n",
       "      <td>0.44</td>\n",
       "      <td>0.00</td>\n",
       "      <td>2.0</td>\n",
       "      <td>-35.90</td>\n",
       "      <td>0</td>\n",
       "      <td>0.08</td>\n",
       "      <td>1.00</td>\n",
       "      <td>0.91</td>\n",
       "      <td>0.06</td>\n",
       "      <td>0.04</td>\n",
       "      <td>90.03</td>\n",
       "      <td>0.0</td>\n",
       "      <td>0.11</td>\n",
       "      <td>0.00</td>\n",
       "      <td>0.45</td>\n",
       "      <td>51.0</td>\n",
       "      <td>48.0</td>\n",
       "    </tr>\n",
       "  </tbody>\n",
       "</table>\n",
       "<p>16807 rows × 20 columns</p>\n",
       "</div>"
      ],
      "text/plain": [
       "       duration_ms  popularity  track_number  danceability  energy  key  \\\n",
       "2016        244.96        86.0           1.0          0.75    0.52  8.0   \n",
       "2017        162.80        81.0           1.0          0.84    0.59  1.0   \n",
       "2018        214.85        88.0           1.0          0.79    0.86  9.0   \n",
       "2019        193.80        75.0           1.0          0.51    0.69  1.0   \n",
       "2020        214.29        85.0           1.0          0.69    0.79  5.0   \n",
       "...            ...         ...           ...           ...     ...  ...   \n",
       "99492       254.35        30.0           6.0          0.72    0.75  2.0   \n",
       "99493       147.63        29.0           8.0          0.20    0.21  3.0   \n",
       "99494       188.00        30.0          11.0          0.20    0.01  7.0   \n",
       "99495       231.58        19.0          14.0          0.43    0.05  7.0   \n",
       "99496       179.40         1.0          13.0          0.44    0.00  2.0   \n",
       "\n",
       "       loudness  mode  speechiness  acousticness  instrumentalness  liveness  \\\n",
       "2016      -5.60     1         0.03          0.41              0.00      0.11   \n",
       "2017      -7.85     1         0.04          0.42              0.00      0.12   \n",
       "2018      -3.24     0         0.11          0.04              0.00      0.08   \n",
       "2019      -4.93     0         0.10          0.02              0.00      0.30   \n",
       "2020      -2.75     1         0.05          0.19              0.00      0.17   \n",
       "...         ...   ...          ...           ...               ...       ...   \n",
       "99492     -6.90     0         0.04          0.10              0.00      0.05   \n",
       "99493    -12.77     1         0.04          0.90              0.89      0.14   \n",
       "99494    -29.80     1         0.05          0.99              0.90      0.08   \n",
       "99495    -17.12     0         0.05          0.99              0.95      0.09   \n",
       "99496    -35.90     0         0.08          1.00              0.91      0.06   \n",
       "\n",
       "       valence   tempo  time_signature  tempo_confidence  \\\n",
       "2016      0.66   95.01             4.0              0.31   \n",
       "2017      0.81  124.92             4.0              0.78   \n",
       "2018      0.59  123.99             4.0              0.93   \n",
       "2019      0.30  170.09             4.0              0.04   \n",
       "2020      0.67  100.02             4.0              0.31   \n",
       "...        ...     ...             ...               ...   \n",
       "99492     0.68  112.21             4.0              0.84   \n",
       "99493     0.04   76.49             4.0              0.28   \n",
       "99494     0.14   69.49             5.0              0.26   \n",
       "99495     0.06   76.22             4.0              0.09   \n",
       "99496     0.04   90.03             0.0              0.11   \n",
       "\n",
       "       time_signature_confidence  key_confidence  n_bars  popularity_artist  \n",
       "2016                        1.00            0.64    94.0               79.0  \n",
       "2017                        1.00            0.30    83.0               78.0  \n",
       "2018                        1.00            0.63   108.0               85.0  \n",
       "2019                        1.00            0.36   136.0               79.0  \n",
       "2020                        0.99            0.56    88.0               76.5  \n",
       "...                          ...             ...     ...                ...  \n",
       "99492                       1.00            0.43   117.0               43.0  \n",
       "99493                       0.11            0.55    46.0               48.0  \n",
       "99494                       0.62            0.85    78.0               61.0  \n",
       "99495                       0.82            0.31    67.0               47.0  \n",
       "99496                       0.00            0.45    51.0               48.0  \n",
       "\n",
       "[16807 rows x 20 columns]"
      ]
     },
     "execution_count": 121,
     "metadata": {},
     "output_type": "execute_result"
    }
   ],
   "source": [
    "X"
   ]
  },
  {
   "cell_type": "code",
   "execution_count": 122,
   "id": "f4698e91",
   "metadata": {},
   "outputs": [
    {
     "data": {
      "text/plain": [
       "2016     1\n",
       "2017     1\n",
       "2018     1\n",
       "2019     1\n",
       "2020     1\n",
       "        ..\n",
       "99492    0\n",
       "99493    0\n",
       "99494    0\n",
       "99495    0\n",
       "99496    0\n",
       "Name: class, Length: 16807, dtype: int64"
      ]
     },
     "execution_count": 122,
     "metadata": {},
     "output_type": "execute_result"
    }
   ],
   "source": [
    "y"
   ]
  },
  {
   "cell_type": "code",
   "execution_count": 123,
   "id": "4ff0d399",
   "metadata": {},
   "outputs": [
    {
     "name": "stdout",
     "output_type": "stream",
     "text": [
      "Original dataset shape Counter({0: 7829, 1: 5616})\n"
     ]
    }
   ],
   "source": [
    "print('Original dataset shape %s' % Counter(y_train))"
   ]
  },
  {
   "cell_type": "markdown",
   "id": "efaebcd2",
   "metadata": {},
   "source": [
    "## Normale"
   ]
  },
  {
   "cell_type": "code",
   "execution_count": 144,
   "id": "db6bd7ae",
   "metadata": {},
   "outputs": [],
   "source": [
    "from sklearn.preprocessing import StandardScaler"
   ]
  },
  {
   "cell_type": "code",
   "execution_count": 145,
   "id": "1708a4fd",
   "metadata": {},
   "outputs": [],
   "source": [
    "norm = StandardScaler()\n",
    "norm.fit(X_train_sbilanciata)\n",
    "\n",
    "X_train_norm = norm.transform(X_train)\n",
    "X_test_norm = norm.transform(X_test)"
   ]
  },
  {
   "cell_type": "code",
   "execution_count": null,
   "id": "79b76961",
   "metadata": {},
   "outputs": [],
   "source": []
  },
  {
   "cell_type": "code",
   "execution_count": 147,
   "id": "03231a5d",
   "metadata": {},
   "outputs": [
    {
     "data": {
      "image/png": "[encoded data removed]",
      "text/plain": [
       "<Figure size 640x480 with 1 Axes>"
      ]
     },
     "metadata": {},
     "output_type": "display_data"
    }
   ],
   "source": [
    "n_neighbors = range(1,20)\n",
    "scores = list()\n",
    "\n",
    "for n in n_neighbors:\n",
    "    clf = KNeighborsClassifier(n_neighbors=n, metric=\"euclidean\")\n",
    "    clf.fit(X_train_norm, y_train)\n",
    "    scores.append(clf.score(X_test_norm, y_test))\n",
    "\n",
    "plt.plot(scores)\n",
    "plt.xticks(range(len(n_neighbors)), n_neighbors)\n",
    "plt.xlabel(\"n_neighbors\")\n",
    "plt.ylabel(\"accuracy\")\n",
    "plt.show()"
   ]
  },
  {
   "cell_type": "code",
   "execution_count": 148,
   "id": "d9bb2467",
   "metadata": {},
   "outputs": [
    {
     "data": {
      "image/png": "[encoded data removed]",
      "text/plain": [
       "<Figure size 640x480 with 1 Axes>"
      ]
     },
     "metadata": {},
     "output_type": "display_data"
    },
    {
     "name": "stdout",
     "output_type": "stream",
     "text": [
      "Best accuracy: 0.8977314986984009\n",
      "Best k value: 12\n"
     ]
    }
   ],
   "source": [
    "from sklearn.model_selection import cross_val_score\n",
    "n_neighbors = range(1,20)\n",
    "avg_scores = list()\n",
    "std_scores = list()\n",
    "k=5\n",
    "for n in n_neighbors:\n",
    "    clf = KNeighborsClassifier(n_neighbors=n, metric=\"euclidean\")\n",
    "    scores = cross_val_score(clf, X_train_norm, y_train, cv=k)\n",
    "    avg_scores.append(np.mean(scores))\n",
    "    std_scores.append(np.std(scores))\n",
    "\n",
    "#plt.plot(avg_scores)\n",
    "plt.errorbar(range(len(n_neighbors)), y=avg_scores, yerr=std_scores, marker='o')\n",
    "plt.xticks(range(len(n_neighbors)), n_neighbors)\n",
    "plt.xlabel(\"n_neighbors\")\n",
    "plt.ylabel(\"accuracy\")\n",
    "plt.show()\n",
    "best_accuracy = max(avg_scores)\n",
    "best_k = n_neighbors[avg_scores.index(best_accuracy)]\n",
    "print(\"Best accuracy:\", best_accuracy)\n",
    "print(\"Best k value:\", best_k)\n"
   ]
  },
  {
   "cell_type": "code",
   "execution_count": 150,
   "id": "eaf4c0c3",
   "metadata": {},
   "outputs": [
    {
     "name": "stdout",
     "output_type": "stream",
     "text": [
      "Punteggi della cross-validation: [0.86984009 0.87393083 0.8694682  0.86612123 0.88508739]\n",
      "Accuracy media: 0.8728895500185943\n"
     ]
    }
   ],
   "source": [
    "from sklearn.model_selection import cross_val_score\n",
    "from sklearn.neighbors import KNeighborsClassifier\n",
    "\n",
    "# Supponiamo che tu abbia già diviso i tuoi dati in X_train e y_train\n",
    "\n",
    "# Creazione di un classificatore KNN\n",
    "knn = KNeighborsClassifier(n_neighbors=1)\n",
    "\n",
    "# Eseguiamo la cross-validation \n",
    "scores = cross_val_score(knn, X_train_norm, y_train, cv=5, scoring='accuracy')\n",
    "\n",
    "# Stampa dei punteggi ottenuti in ogni fold\n",
    "print(\"Punteggi della cross-validation:\", scores)\n",
    "\n",
    "# Calcolo dell'accuracy media\n",
    "print(\"Accuracy media:\", scores.mean())\n"
   ]
  },
  {
   "cell_type": "code",
   "execution_count": 151,
   "id": "1861bb75",
   "metadata": {},
   "outputs": [
    {
     "data": {
      "text/plain": [
       "KNeighborsClassifier(metric='euclidean', n_neighbors=12)"
      ]
     },
     "execution_count": 151,
     "metadata": {},
     "output_type": "execute_result"
    }
   ],
   "source": [
    "clf = KNeighborsClassifier(n_neighbors=best_k, metric=\"euclidean\")\n",
    "clf.fit(X_train_norm, y_train)"
   ]
  },
  {
   "cell_type": "code",
   "execution_count": 152,
   "id": "8d105b26",
   "metadata": {},
   "outputs": [
    {
     "data": {
      "text/plain": [
       "array([0, 0, 0, ..., 0, 1, 0])"
      ]
     },
     "execution_count": 152,
     "metadata": {},
     "output_type": "execute_result"
    }
   ],
   "source": [
    "y_pred = clf.predict(X_test_norm)\n",
    "y_pred"
   ]
  },
  {
   "cell_type": "code",
   "execution_count": 153,
   "id": "f3963d63",
   "metadata": {},
   "outputs": [
    {
     "name": "stdout",
     "output_type": "stream",
     "text": [
      "              precision    recall  f1-score   support\n",
      "\n",
      "           0       0.92      0.91      0.92      1986\n",
      "           1       0.88      0.89      0.88      1376\n",
      "\n",
      "    accuracy                           0.90      3362\n",
      "   macro avg       0.90      0.90      0.90      3362\n",
      "weighted avg       0.90      0.90      0.90      3362\n",
      "\n"
     ]
    }
   ],
   "source": [
    " from sklearn.metrics import classification_report\n",
    "print(classification_report(y_test, y_pred))"
   ]
  },
  {
   "cell_type": "code",
   "execution_count": null,
   "id": "7bc708ab",
   "metadata": {},
   "outputs": [],
   "source": []
  },
  {
   "cell_type": "markdown",
   "id": "522ce41c",
   "metadata": {},
   "source": [
    "## Sbilanciamento"
   ]
  },
  {
   "cell_type": "code",
   "execution_count": 154,
   "id": "656b3440",
   "metadata": {},
   "outputs": [
    {
     "data": {
      "text/plain": [
       "13445"
      ]
     },
     "execution_count": 154,
     "metadata": {},
     "output_type": "execute_result"
    }
   ],
   "source": [
    "len(y_train)"
   ]
  },
  {
   "cell_type": "code",
   "execution_count": 155,
   "id": "19a2006e",
   "metadata": {},
   "outputs": [
    {
     "name": "stdout",
     "output_type": "stream",
     "text": [
      "Numero di campioni per la classe 1: 537\n",
      "Numero di campioni per la classe 0: 12908\n"
     ]
    }
   ],
   "source": [
    "# Totale dei campioni nel dataset\n",
    "totale_campioni = len(y_train)\n",
    "\n",
    "# Calcola il numero di campioni per la classe 1 per avere il 4% del totale\n",
    "campioni_classe_1 = int(totale_campioni * 0.04)\n",
    "\n",
    "# Imposta il numero di campioni per la classe 0 al 96% del totale\n",
    "campioni_classe_0 = totale_campioni - campioni_classe_1\n",
    "\n",
    "print(\"Numero di campioni per la classe 1:\", campioni_classe_1)\n",
    "print(\"Numero di campioni per la classe 0:\", campioni_classe_0)\n"
   ]
  },
  {
   "cell_type": "code",
   "execution_count": 156,
   "id": "b97b9382",
   "metadata": {},
   "outputs": [],
   "source": [
    "import numpy as np\n",
    "from sklearn.utils import resample\n",
    "\n",
    "# Definisci il totale dei campioni nel vettore delle etichette\n",
    "totale_campioni = len(y_train)\n",
    "\n",
    "# Calcola il numero di campioni per la classe 1 per avere il 4% del totale\n",
    "campioni_classe_1 = int(totale_campioni * 0.04)\n",
    "\n",
    "# Seleziona gli indici dei campioni della classe 1\n",
    "indici_classe_1 = np.where(y_train == 1)[0]\n",
    "\n",
    "# Sottocampionamento della classe 1\n",
    "indici_classe_1_sbilanciata = resample(indici_classe_1, replace=False, n_samples=campioni_classe_1, random_state=42)\n",
    "\n",
    "# Ora 'indici_classe_1_sbilanciata' contiene gli indici della classe 1 sottocampionata\n",
    "\n",
    "# Seleziona gli indici della classe 0\n",
    "indici_classe_0 = np.where(y_train == 0)[0]\n",
    "\n",
    "# Combina gli indici delle due classi\n",
    "indici_balanced = np.concatenate([indici_classe_0, indici_classe_1_sbilanciata])\n",
    "\n",
    "# Ora 'indici_balanced' contiene gli indici del vettore delle etichette con la classe 1 sottocampionata al 4% del totale\n",
    "\n",
    "# Seleziona gli elementi corrispondenti agli indici bilanciati nel vettore delle etichette\n",
    "y_train_sbilanciata = y_train.iloc[indici_balanced]\n"
   ]
  },
  {
   "cell_type": "code",
   "execution_count": 157,
   "id": "8f83b595",
   "metadata": {},
   "outputs": [
    {
     "name": "stdout",
     "output_type": "stream",
     "text": [
      "Original dataset shape Counter({0: 7829, 1: 537})\n"
     ]
    }
   ],
   "source": [
    "print('Original dataset shape %s' % Counter(y_train_sbilanciata))"
   ]
  },
  {
   "cell_type": "code",
   "execution_count": 158,
   "id": "f5f7c511",
   "metadata": {},
   "outputs": [
    {
     "name": "stdout",
     "output_type": "stream",
     "text": [
      "Proporzione per la classe 0: 0.9358116184556539\n",
      "Proporzione per la classe 1: 0.06418838154434617\n"
     ]
    }
   ],
   "source": [
    "# Numero di campioni per la classe 0\n",
    "num_campioni_classe_0 = 7829\n",
    "\n",
    "# Numero di campioni per la classe 1\n",
    "num_campioni_classe_1 = 537\n",
    "\n",
    "# Totale dei campioni\n",
    "totale_campioni = num_campioni_classe_0 + num_campioni_classe_1\n",
    "\n",
    "# Proporzione per la classe 0\n",
    "proporzione_classe_0 = num_campioni_classe_0 / totale_campioni\n",
    "\n",
    "# Proporzione per la classe 1\n",
    "proporzione_classe_1 = num_campioni_classe_1 / totale_campioni\n",
    "\n",
    "print(\"Proporzione per la classe 0:\", proporzione_classe_0)\n",
    "print(\"Proporzione per la classe 1:\", proporzione_classe_1)\n"
   ]
  },
  {
   "cell_type": "code",
   "execution_count": 159,
   "id": "3d1a4883",
   "metadata": {},
   "outputs": [],
   "source": [
    "# Seleziona gli elementi corrispondenti agli indici bilanciati nel vettore delle features\n",
    "X_train_sbilanciata = X_train.iloc[indici_balanced]\n"
   ]
  },
  {
   "cell_type": "code",
   "execution_count": 160,
   "id": "324ffbde",
   "metadata": {},
   "outputs": [
    {
     "data": {
      "text/plain": [
       "(8366, 20)"
      ]
     },
     "execution_count": 160,
     "metadata": {},
     "output_type": "execute_result"
    }
   ],
   "source": [
    "X_train_sbilanciata.shape"
   ]
  },
  {
   "cell_type": "markdown",
   "id": "edace7bd",
   "metadata": {},
   "source": [
    "## Normalization"
   ]
  },
  {
   "cell_type": "code",
   "execution_count": 161,
   "id": "759c8e38",
   "metadata": {},
   "outputs": [],
   "source": [
    "from sklearn.preprocessing import StandardScaler"
   ]
  },
  {
   "cell_type": "code",
   "execution_count": 162,
   "id": "5111c9a6",
   "metadata": {},
   "outputs": [],
   "source": [
    "norm = StandardScaler()\n",
    "norm.fit(X_train_sbilanciata)\n",
    "\n",
    "X_train_norm = norm.transform(X_train_sbilanciata)\n",
    "X_test_norm = norm.transform(X_test)"
   ]
  },
  {
   "cell_type": "code",
   "execution_count": null,
   "id": "dc5f781b",
   "metadata": {},
   "outputs": [],
   "source": []
  },
  {
   "cell_type": "code",
   "execution_count": 163,
   "id": "0fa2ec79",
   "metadata": {},
   "outputs": [
    {
     "data": {
      "image/png": "[encoded data removed]",
      "text/plain": [
       "<Figure size 640x480 with 1 Axes>"
      ]
     },
     "metadata": {},
     "output_type": "display_data"
    }
   ],
   "source": [
    "n_neighbors = range(1,20)\n",
    "scores = list()\n",
    "\n",
    "for n in n_neighbors:\n",
    "    clf = KNeighborsClassifier(n_neighbors=n, metric=\"euclidean\")\n",
    "    clf.fit(X_train_norm, y_train_sbilanciata)\n",
    "    scores.append(clf.score(X_test_norm, y_test))\n",
    "\n",
    "plt.plot(scores)\n",
    "plt.xticks(range(len(n_neighbors)), n_neighbors)\n",
    "plt.xlabel(\"n_neighbors\")\n",
    "plt.ylabel(\"accuracy\")\n",
    "plt.show()"
   ]
  },
  {
   "cell_type": "code",
   "execution_count": 164,
   "id": "4f150e0d",
   "metadata": {},
   "outputs": [
    {
     "data": {
      "image/png": "[encoded data removed]",
      "text/plain": [
       "<Figure size 640x480 with 1 Axes>"
      ]
     },
     "metadata": {},
     "output_type": "display_data"
    },
    {
     "name": "stdout",
     "output_type": "stream",
     "text": [
      "Best accuracy: 0.949318896437266\n",
      "Best k value: 7\n"
     ]
    }
   ],
   "source": [
    "from sklearn.model_selection import cross_val_score\n",
    "n_neighbors = range(1,20)\n",
    "avg_scores = list()\n",
    "std_scores = list()\n",
    "k=5\n",
    "for n in n_neighbors:\n",
    "    clf = KNeighborsClassifier(n_neighbors=n, metric=\"euclidean\")\n",
    "    scores = cross_val_score(clf, X_train_norm, y_train_sbilanciata, cv=k)\n",
    "    avg_scores.append(np.mean(scores))\n",
    "    std_scores.append(np.std(scores))\n",
    "\n",
    "#plt.plot(avg_scores)\n",
    "plt.errorbar(range(len(n_neighbors)), y=avg_scores, yerr=std_scores, marker='o')\n",
    "plt.xticks(range(len(n_neighbors)), n_neighbors)\n",
    "plt.xlabel(\"n_neighbors\")\n",
    "plt.ylabel(\"accuracy\")\n",
    "plt.show()\n",
    "best_accuracy = max(avg_scores)\n",
    "best_k = n_neighbors[avg_scores.index(best_accuracy)]\n",
    "print(\"Best accuracy:\", best_accuracy)\n",
    "print(\"Best k value:\", best_k)\n"
   ]
  },
  {
   "cell_type": "code",
   "execution_count": 165,
   "id": "fe4f3e28",
   "metadata": {},
   "outputs": [
    {
     "name": "stdout",
     "output_type": "stream",
     "text": [
      "Punteggi della cross-validation: [0.94563919 0.93962941 0.94441124 0.94142259 0.94381351]\n",
      "Accuracy media: 0.9429831871861836\n"
     ]
    }
   ],
   "source": [
    "from sklearn.model_selection import cross_val_score\n",
    "from sklearn.neighbors import KNeighborsClassifier\n",
    "\n",
    "# Supponiamo che tu abbia già diviso i tuoi dati in X_train e y_train\n",
    "\n",
    "# Creazione di un classificatore KNN\n",
    "knn = KNeighborsClassifier(n_neighbors=1)\n",
    "\n",
    "# Eseguiamo la cross-validation \n",
    "scores = cross_val_score(knn, X_train_norm, y_train_sbilanciata, cv=5, scoring='accuracy')\n",
    "\n",
    "# Stampa dei punteggi ottenuti in ogni fold\n",
    "print(\"Punteggi della cross-validation:\", scores)\n",
    "\n",
    "# Calcolo dell'accuracy media\n",
    "print(\"Accuracy media:\", scores.mean())\n"
   ]
  },
  {
   "cell_type": "code",
   "execution_count": 166,
   "id": "0cd65b38",
   "metadata": {},
   "outputs": [
    {
     "data": {
      "text/plain": [
       "KNeighborsClassifier(metric='euclidean', n_neighbors=7)"
      ]
     },
     "execution_count": 166,
     "metadata": {},
     "output_type": "execute_result"
    }
   ],
   "source": [
    "clf = KNeighborsClassifier(n_neighbors=best_k, metric=\"euclidean\")\n",
    "clf.fit(X_train_norm, y_train_sbilanciata)"
   ]
  },
  {
   "cell_type": "code",
   "execution_count": 167,
   "id": "cceafce2",
   "metadata": {},
   "outputs": [
    {
     "data": {
      "text/plain": [
       "array([0, 0, 0, ..., 0, 1, 0])"
      ]
     },
     "execution_count": 167,
     "metadata": {},
     "output_type": "execute_result"
    }
   ],
   "source": [
    "y_pred = clf.predict(X_test_norm)\n",
    "y_pred"
   ]
  },
  {
   "cell_type": "code",
   "execution_count": 168,
   "id": "2aad77f1",
   "metadata": {},
   "outputs": [
    {
     "name": "stdout",
     "output_type": "stream",
     "text": [
      "              precision    recall  f1-score   support\n",
      "\n",
      "           0       0.69      0.99      0.82      1986\n",
      "           1       0.97      0.37      0.54      1376\n",
      "\n",
      "    accuracy                           0.74      3362\n",
      "   macro avg       0.83      0.68      0.68      3362\n",
      "weighted avg       0.81      0.74      0.70      3362\n",
      "\n"
     ]
    }
   ],
   "source": [
    " from sklearn.metrics import classification_report\n",
    "print(classification_report(y_test, y_pred))"
   ]
  },
  {
   "cell_type": "code",
   "execution_count": null,
   "id": "8644d973",
   "metadata": {},
   "outputs": [],
   "source": []
  },
  {
   "cell_type": "code",
   "execution_count": null,
   "id": "572c3f54",
   "metadata": {},
   "outputs": [],
   "source": []
  },
  {
   "cell_type": "markdown",
   "id": "207718b4",
   "metadata": {},
   "source": [
    "## Balancing"
   ]
  },
  {
   "cell_type": "code",
   "execution_count": 169,
   "id": "5a9f9fb8",
   "metadata": {},
   "outputs": [],
   "source": [
    "import warnings\n",
    "warnings.simplefilter(\"ignore\")"
   ]
  },
  {
   "cell_type": "code",
   "execution_count": 171,
   "id": "267c3d24",
   "metadata": {},
   "outputs": [
    {
     "name": "stdout",
     "output_type": "stream",
     "text": [
      "Original dataset shape Counter({0: 7829, 1: 537})\n"
     ]
    }
   ],
   "source": [
    "print('Original dataset shape %s' % Counter(y_train_sbilanciata))"
   ]
  },
  {
   "cell_type": "markdown",
   "id": "281c7dde",
   "metadata": {},
   "source": [
    "## Tomek Links"
   ]
  },
  {
   "cell_type": "code",
   "execution_count": 173,
   "id": "c92ff0bf",
   "metadata": {},
   "outputs": [
    {
     "name": "stdout",
     "output_type": "stream",
     "text": [
      "Resampled dataset shape Counter({0: 7754, 1: 537})\n"
     ]
    }
   ],
   "source": [
    "from imblearn.under_sampling import TomekLinks\n",
    "tl = TomekLinks()\n",
    "X_res, y_res = tl.fit_resample(X_train_norm, y_train_sbilanciata)\n",
    "print('Resampled dataset shape %s' % Counter(y_res)) \n"
   ]
  },
  {
   "cell_type": "code",
   "execution_count": 174,
   "id": "59685930",
   "metadata": {},
   "outputs": [
    {
     "data": {
      "image/png": "[encoded data removed]",
      "text/plain": [
       "<Figure size 640x480 with 1 Axes>"
      ]
     },
     "metadata": {},
     "output_type": "display_data"
    },
    {
     "name": "stdout",
     "output_type": "stream",
     "text": [
      "Best accuracy: 0.9518748850260051\n",
      "Best k value: 1\n"
     ]
    }
   ],
   "source": [
    "from sklearn.model_selection import cross_val_score\n",
    "n_neighbors = range(1,20)\n",
    "avg_scores = list()\n",
    "std_scores = list()\n",
    "k=5\n",
    "for n in n_neighbors:\n",
    "    clf = KNeighborsClassifier(n_neighbors=n, metric=\"euclidean\")\n",
    "    scores = cross_val_score(clf, X_res, y_res, cv=k)\n",
    "    avg_scores.append(np.mean(scores))\n",
    "    std_scores.append(np.std(scores))\n",
    "\n",
    "#plt.plot(avg_scores)\n",
    "plt.errorbar(range(len(n_neighbors)), y=avg_scores, yerr=std_scores, marker='o')\n",
    "plt.xticks(range(len(n_neighbors)), n_neighbors)\n",
    "plt.xlabel(\"n_neighbors\")\n",
    "plt.ylabel(\"accuracy\")\n",
    "plt.show()\n",
    "best_accuracy = max(avg_scores)\n",
    "best_k = n_neighbors[avg_scores.index(best_accuracy)]\n",
    "print(\"Best accuracy:\", best_accuracy)\n",
    "print(\"Best k value:\", best_k)\n"
   ]
  },
  {
   "cell_type": "code",
   "execution_count": 175,
   "id": "638082e5",
   "metadata": {},
   "outputs": [
    {
     "data": {
      "text/plain": [
       "KNeighborsClassifier(metric='euclidean', n_neighbors=1)"
      ]
     },
     "execution_count": 175,
     "metadata": {},
     "output_type": "execute_result"
    }
   ],
   "source": [
    "clf_balanced = KNeighborsClassifier(n_neighbors=best_k, metric=\"euclidean\")\n",
    "clf_balanced.fit(X_res, y_res)"
   ]
  },
  {
   "cell_type": "code",
   "execution_count": 176,
   "id": "28eef09f",
   "metadata": {},
   "outputs": [
    {
     "data": {
      "text/plain": [
       "array([0, 0, 0, ..., 0, 0, 0])"
      ]
     },
     "execution_count": 176,
     "metadata": {},
     "output_type": "execute_result"
    }
   ],
   "source": [
    "y_pred = clf_balanced.predict(X_test_norm)\n",
    "y_pred"
   ]
  },
  {
   "cell_type": "code",
   "execution_count": 177,
   "id": "c42ef792",
   "metadata": {},
   "outputs": [
    {
     "name": "stdout",
     "output_type": "stream",
     "text": [
      "Accuracy 0.7792980368828079\n"
     ]
    }
   ],
   "source": [
    "from sklearn.metrics import accuracy_score\n",
    "print('Accuracy %s' % accuracy_score(y_test, y_pred))"
   ]
  },
  {
   "cell_type": "code",
   "execution_count": 178,
   "id": "d2725fa1",
   "metadata": {},
   "outputs": [
    {
     "name": "stdout",
     "output_type": "stream",
     "text": [
      "              precision    recall  f1-score   support\n",
      "\n",
      "           0       0.74      0.97      0.84      1986\n",
      "           1       0.92      0.51      0.65      1376\n",
      "\n",
      "    accuracy                           0.78      3362\n",
      "   macro avg       0.83      0.74      0.75      3362\n",
      "weighted avg       0.81      0.78      0.76      3362\n",
      "\n"
     ]
    }
   ],
   "source": [
    "from sklearn.metrics import classification_report\n",
    "print(classification_report(y_test, y_pred))"
   ]
  },
  {
   "cell_type": "markdown",
   "id": "83da4199",
   "metadata": {},
   "source": [
    " \n",
    "# Edited Nearest Neighbours"
   ]
  },
  {
   "cell_type": "code",
   "execution_count": 180,
   "id": "607d90a6",
   "metadata": {},
   "outputs": [],
   "source": [
    "from imblearn.under_sampling import EditedNearestNeighbours "
   ]
  },
  {
   "cell_type": "code",
   "execution_count": 181,
   "id": "42d1c09c",
   "metadata": {},
   "outputs": [
    {
     "name": "stdout",
     "output_type": "stream",
     "text": [
      "Resampled dataset shape Counter({0: 7336, 1: 537})\n"
     ]
    }
   ],
   "source": [
    "\n",
    "enn = EditedNearestNeighbours()\n",
    "X_res, y_res = enn.fit_resample(X_train_norm, y_train_sbilanciata)\n",
    "print('Resampled dataset shape %s' % Counter(y_res)) #si partiva da 7829"
   ]
  },
  {
   "cell_type": "code",
   "execution_count": 182,
   "id": "bc37e2ea",
   "metadata": {},
   "outputs": [
    {
     "name": "stdout",
     "output_type": "stream",
     "text": [
      "Best k: 1\n",
      "Best Accuracy: 0.9751048990540732\n"
     ]
    }
   ],
   "source": [
    "from sklearn.model_selection import cross_val_score\n",
    "from sklearn.model_selection import KFold\n",
    "from sklearn.neighbors import KNeighborsClassifier\n",
    "from sklearn.datasets import load_iris\n",
    "import numpy as np\n",
    "\n",
    "# Definisci una lista di valori di k da testare\n",
    "k_values = list(range(1, 31))  # Prova k da 1 a 30\n",
    "\n",
    "# Inizializza una lista per memorizzare le medie delle accuratezze per ogni valore di k\n",
    "mean_accuracies = []\n",
    "\n",
    "# Itera su ogni valore di k\n",
    "for k in k_values:\n",
    "    # Inizializza il classificatore KNN con il valore di k corrente\n",
    "    knn = KNeighborsClassifier(n_neighbors=k,  metric='euclidean')\n",
    "    \n",
    "    # Esegui la k-fold cross-validation con k=5\n",
    "    scores = cross_val_score(knn, X_res, y_res, cv=5)\n",
    "    \n",
    "    # Calcola la media delle accuratezze per questo valore di k\n",
    "    mean_accuracy = np.mean(scores)\n",
    "    \n",
    "    # Aggiungi la media delle accuratezze alla lista\n",
    "    mean_accuracies.append(mean_accuracy)\n",
    "\n",
    "# Trova il valore di k che massimizza l'accuratezza media\n",
    "best_k = k_values[np.argmax(mean_accuracies)]\n",
    "best_accuracy = np.max(mean_accuracies)\n",
    "\n",
    "print(\"Best k:\", best_k)\n",
    "print(\"Best Accuracy:\", best_accuracy)"
   ]
  },
  {
   "cell_type": "code",
   "execution_count": 183,
   "id": "935ffacc",
   "metadata": {},
   "outputs": [
    {
     "data": {
      "text/plain": [
       "KNeighborsClassifier(metric='euclidean', n_neighbors=1)"
      ]
     },
     "execution_count": 183,
     "metadata": {},
     "output_type": "execute_result"
    }
   ],
   "source": [
    "clf_balanced = KNeighborsClassifier(n_neighbors=best_k, metric=\"euclidean\")\n",
    "clf_balanced.fit(X_res, y_res)"
   ]
  },
  {
   "cell_type": "code",
   "execution_count": 184,
   "id": "0a0aa46d",
   "metadata": {},
   "outputs": [
    {
     "data": {
      "text/plain": [
       "array([0, 0, 0, ..., 0, 1, 0])"
      ]
     },
     "execution_count": 184,
     "metadata": {},
     "output_type": "execute_result"
    }
   ],
   "source": [
    "y_pred = clf_balanced.predict(X_test_norm)\n",
    "y_pred"
   ]
  },
  {
   "cell_type": "code",
   "execution_count": 185,
   "id": "e24905ad",
   "metadata": {},
   "outputs": [
    {
     "name": "stdout",
     "output_type": "stream",
     "text": [
      "              precision    recall  f1-score   support\n",
      "\n",
      "           0       0.78      0.95      0.86      1986\n",
      "           1       0.90      0.60      0.72      1376\n",
      "\n",
      "    accuracy                           0.81      3362\n",
      "   macro avg       0.84      0.78      0.79      3362\n",
      "weighted avg       0.83      0.81      0.80      3362\n",
      "\n"
     ]
    }
   ],
   "source": [
    "from sklearn.metrics import classification_report\n",
    "print(classification_report(y_test, y_pred))"
   ]
  },
  {
   "cell_type": "markdown",
   "id": "d27ee029",
   "metadata": {},
   "source": [
    "## Oversampling"
   ]
  },
  {
   "cell_type": "code",
   "execution_count": 186,
   "id": "413f69b4",
   "metadata": {},
   "outputs": [],
   "source": [
    "from imblearn.over_sampling import RandomOverSampler\n",
    "from imblearn.over_sampling import SMOTE\n",
    "from imblearn.over_sampling import ADASYN"
   ]
  },
  {
   "cell_type": "markdown",
   "id": "25757627",
   "metadata": {},
   "source": [
    "# Adasyn"
   ]
  },
  {
   "cell_type": "code",
   "execution_count": 187,
   "id": "8472387e",
   "metadata": {},
   "outputs": [
    {
     "name": "stdout",
     "output_type": "stream",
     "text": [
      "Resampled dataset shape Counter({0: 7829, 1: 7788})\n"
     ]
    }
   ],
   "source": [
    "ada = ADASYN(random_state=42)\n",
    "X_res, y_res = ada.fit_resample(X_train_norm, y_train_sbilanciata)\n",
    "print('Resampled dataset shape %s' % Counter(y_res))"
   ]
  },
  {
   "cell_type": "code",
   "execution_count": 188,
   "id": "03c29f2a",
   "metadata": {},
   "outputs": [
    {
     "name": "stdout",
     "output_type": "stream",
     "text": [
      "Best k: 1\n",
      "Best Accuracy: 0.9669595455303943\n"
     ]
    }
   ],
   "source": [
    "from sklearn.model_selection import cross_val_score\n",
    "from sklearn.model_selection import KFold\n",
    "from sklearn.neighbors import KNeighborsClassifier\n",
    "from sklearn.datasets import load_iris\n",
    "import numpy as np\n",
    "\n",
    "# Definisci una lista di valori di k da testare\n",
    "k_values = list(range(1, 31))  # Prova k da 1 a 30\n",
    "\n",
    "# Inizializza una lista per memorizzare le medie delle accuratezze per ogni valore di k\n",
    "mean_accuracies = []\n",
    "\n",
    "# Itera su ogni valore di k\n",
    "for k in k_values:\n",
    "    # Inizializza il classificatore KNN con il valore di k corrente\n",
    "    knn = KNeighborsClassifier(n_neighbors=k,  metric='euclidean')\n",
    "    \n",
    "    # Esegui la k-fold cross-validation con k=5\n",
    "    scores = cross_val_score(knn, X_res, y_res, cv=5)\n",
    "    \n",
    "    # Calcola la media delle accuratezze per questo valore di k\n",
    "    mean_accuracy = np.mean(scores)\n",
    "    \n",
    "    # Aggiungi la media delle accuratezze alla lista\n",
    "    mean_accuracies.append(mean_accuracy)\n",
    "\n",
    "# Trova il valore di k che massimizza l'accuratezza media\n",
    "best_k = k_values[np.argmax(mean_accuracies)]\n",
    "best_accuracy = np.max(mean_accuracies)\n",
    "\n",
    "print(\"Best k:\", best_k)\n",
    "print(\"Best Accuracy:\", best_accuracy)"
   ]
  },
  {
   "cell_type": "code",
   "execution_count": 189,
   "id": "66ff7088",
   "metadata": {},
   "outputs": [
    {
     "data": {
      "text/plain": [
       "KNeighborsClassifier(metric='euclidean', n_neighbors=1)"
      ]
     },
     "execution_count": 189,
     "metadata": {},
     "output_type": "execute_result"
    }
   ],
   "source": [
    "clf_balanced = KNeighborsClassifier(n_neighbors=best_k, metric=\"euclidean\")\n",
    "clf_balanced.fit(X_res, y_res)"
   ]
  },
  {
   "cell_type": "code",
   "execution_count": 190,
   "id": "128d0edc",
   "metadata": {},
   "outputs": [
    {
     "data": {
      "text/plain": [
       "KNeighborsClassifier(metric='euclidean', n_neighbors=1)"
      ]
     },
     "execution_count": 190,
     "metadata": {},
     "output_type": "execute_result"
    }
   ],
   "source": [
    "clf_balanced = KNeighborsClassifier(n_neighbors=best_k, metric=\"euclidean\")\n",
    "clf_balanced.fit(X_res, y_res)"
   ]
  },
  {
   "cell_type": "code",
   "execution_count": 191,
   "id": "e2c1a988",
   "metadata": {},
   "outputs": [
    {
     "name": "stdout",
     "output_type": "stream",
     "text": [
      "              precision    recall  f1-score   support\n",
      "\n",
      "           0       0.78      0.95      0.86      1986\n",
      "           1       0.90      0.60      0.72      1376\n",
      "\n",
      "    accuracy                           0.81      3362\n",
      "   macro avg       0.84      0.78      0.79      3362\n",
      "weighted avg       0.83      0.81      0.80      3362\n",
      "\n"
     ]
    }
   ],
   "source": [
    "from sklearn.metrics import classification_report\n",
    "print(classification_report(y_test, y_pred))"
   ]
  },
  {
   "cell_type": "code",
   "execution_count": null,
   "id": "ca7c6bf1",
   "metadata": {},
   "outputs": [],
   "source": []
  }
 ],
 "metadata": {
  "kernelspec": {
   "display_name": "Python 3 (ipykernel)",
   "language": "python",
   "name": "python3"
  },
  "language_info": {
   "codemirror_mode": {
    "name": "ipython",
    "version": 3
   },
   "file_extension": ".py",
   "mimetype": "text/x-python",
   "name": "python",
   "nbconvert_exporter": "python",
   "pygments_lexer": "ipython3",
   "version": "3.9.19"
  },
  "vscode": {
   "interpreter": {
    "hash": "31d5e07946b246fb0b4a185211c8e76266565a2c1b260be08b42ff119a041270"
   }
  }
 },
 "nbformat": 4,
 "nbformat_minor": 5
}
