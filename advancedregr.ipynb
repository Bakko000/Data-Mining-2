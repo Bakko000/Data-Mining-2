{
 "cells": [
  {
   "cell_type": "code",
   "execution_count": 1,
   "metadata": {},
   "outputs": [],
   "source": [
    "from sklearn.model_selection import GridSearchCV\n",
    "from sklearn.linear_model import LogisticRegression\n",
    "from sklearn.metrics import accuracy_score\n",
    "import pandas as pd    #89, 91, 92\n",
    "import numpy as np\n",
    "import matplotlib.pyplot as plt\n",
    "from sklearn.svm import SVC\n",
    "from sklearn.preprocessing import StandardScaler\n",
    "from sklearn.preprocessing import LabelEncoder\n",
    "from sklearn.model_selection import train_test_split"
   ]
  },
  {
   "cell_type": "markdown",
   "metadata": {},
   "source": [
    "# Preprocessing"
   ]
  },
  {
   "cell_type": "code",
   "execution_count": 2,
   "metadata": {},
   "outputs": [],
   "source": [
    "import pandas as pd\n",
    "import numpy as np\n",
    "from sklearn.preprocessing import LabelEncoder\n",
    "from sklearn.model_selection import train_test_split\n",
    "from sklearn.preprocessing import StandardScaler\n",
    "\n",
    "# Load the dataset\n",
    "dataset = pd.read_csv('nuovo_dataset_totale.csv')\n",
    "\n",
    "# Filter the dataset based on the 'genre' column\n",
    "filtered_df = dataset\n",
    "filtered_df = filtered_df.drop(['id'], axis=1)\n",
    "\n",
    "# Function to transform strings into lists of floats\n",
    "def transform_to_list(lst_str):\n",
    "    lst_str = lst_str.strip('][').split(', ')\n",
    "    return [float(x) for x in lst_str]\n",
    "\n",
    "# Apply the function to the 'popularity_artist' column\n",
    "filtered_df['popularity_artist'] = filtered_df['popularity_artist'].apply(transform_to_list)\n",
    "\n",
    "# Calculate the mean of each list\n",
    "filtered_df['popularity_artist'] = round(filtered_df['popularity_artist'].apply(np.mean), 2)\n",
    "\n",
    "# Define the target variables\n",
    "y = filtered_df[['popularity']]\n",
    "\n",
    "# Drop unnecessary columns from the feature matrix\n",
    "X = filtered_df.drop(['name', 'Unnamed: 0', 'artists', 'disc_number', 'album_type', 'album_release_date',\n",
    "                      'album_release_date_precision', 'album_name', 'genre',\n",
    "                      'popularity'], axis=1)\n",
    "\n",
    "# Split the data into training and testing sets\n",
    "X_train, X_test, y_train, y_test = train_test_split(X, y, test_size=0.2, random_state=72)\n",
    "\n",
    "# Normalize the feature matrix\n",
    "norm = StandardScaler()\n",
    "norm.fit(X_train)\n",
    "X_train_norm = norm.transform(X_train)\n",
    "X_test_norm = norm.transform(X_test)\n"
   ]
  },
  {
   "cell_type": "markdown",
   "metadata": {},
   "source": [
    "# MLRegressor"
   ]
  },
  {
   "cell_type": "code",
   "execution_count": 3,
   "metadata": {},
   "outputs": [
    {
     "ename": "",
     "evalue": "",
     "output_type": "error",
     "traceback": [
      "\u001b[1;31mSi è verificato un arresto anomalo del Kernel durante l'esecuzione del codice nella cella attiva o in una cella precedente. \n",
      "\u001b[1;31mEsaminare il codice nelle celle per identificare una possibile causa dell'errore. \n",
      "\u001b[1;31mPer altre informazioni, fare clic<a href='https://aka.ms/vscodeJupyterKernelCrash'>qui</a>. \n",
      "\u001b[1;31mPer ulteriori dettagli, visualizzare Jupyter <a href='command:jupyter.viewOutput'>log</a>."
     ]
    }
   ],
   "source": [
    "from sklearn.neural_network import MLPRegressor\n",
    "from sklearn.model_selection import RandomizedSearchCV\n",
    "\n",
    "# Create an MLP Regressor\n",
    "mlp_regressor = MLPRegressor()\n",
    "\n",
    "# Define the parameter grid for hyperparameter tuning\n",
    "param_grid = {\n",
    "    'hidden_layer_sizes': [(100,), (50, 50), (50, 100, 50)],  # Various hidden layer sizes\n",
    "    'activation': ['logistic', 'tanh', 'relu'],  # Activation functions\n",
    "    'solver': ['adam', 'sgd', 'lbfgs'],  # Solvers for optimization\n",
    "    'alpha': [0.0001, 0.001, 0.01],\n",
    "    'max_iter': [200, 300, 1000], \n",
    "    'early_stopping': [True],\n",
    "    'n_iter_no_change': [20,30,40], # L2 regularization parameter\n",
    "    'momentum': [0.1, 0.001, 0.0001],\n",
    "    'learning_rate': ['constant', 'adaptive'],  # Learning rate schedule\n",
    "}\n",
    "\n",
    "# Create a GridSearchCV object\n",
    "grid_search = RandomizedSearchCV(mlp_regressor, param_grid, cv=5, n_iter= 30, scoring='neg_root_mean_squared_error', n_jobs=-1)\n",
    "\n",
    "# Fit the GridSearchCV object to the training data\n",
    "grid_search.fit(X_train_norm, y_train)"
   ]
  },
  {
   "cell_type": "code",
   "execution_count": null,
   "metadata": {},
   "outputs": [],
   "source": [
    "# Get the best estimator and its parameters\n",
    "best_mlp_regressor = grid_search.best_estimator_\n",
    "best_params = grid_search.best_params_\n",
    "print(\"Best Parameters:\", best_params)\n",
    "print(\"Best Score:\", grid_search.best_score_)\n",
    "\n",
    "\n",
    "# Evaluate the best model on the test set\n",
    "y_pred = best_mlp_regressor.predict(X_test_norm)\n",
    "# Calculate the evaluation metrics for each target variable\n",
    "# You can use metrics like mean_squared_error, r2_score, etc.\n"
   ]
  }
 ],
 "metadata": {
  "kernelspec": {
   "display_name": "base",
   "language": "python",
   "name": "python3"
  },
  "language_info": {
   "codemirror_mode": {
    "name": "ipython",
    "version": 3
   },
   "file_extension": ".py",
   "mimetype": "text/x-python",
   "name": "python",
   "nbconvert_exporter": "python",
   "pygments_lexer": "ipython3",
   "version": "3.9.17"
  }
 },
 "nbformat": 4,
 "nbformat_minor": 2
}
