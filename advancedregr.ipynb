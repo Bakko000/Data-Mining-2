{
 "cells": [
  {
   "cell_type": "code",
   "execution_count": 5,
   "metadata": {},
   "outputs": [],
   "source": [
    "from sklearn.model_selection import GridSearchCV\n",
    "from sklearn.linear_model import LogisticRegression\n",
    "from sklearn.metrics import accuracy_score\n",
    "import pandas as pd    #89, 91, 92\n",
    "import numpy as np\n",
    "import matplotlib.pyplot as plt\n",
    "from sklearn.svm import SVC\n",
    "from sklearn.preprocessing import StandardScaler\n",
    "from sklearn.preprocessing import LabelEncoder\n",
    "from sklearn.model_selection import train_test_split"
   ]
  },
  {
   "cell_type": "markdown",
   "metadata": {},
   "source": [
    "# Preprocessing"
   ]
  },
  {
   "cell_type": "code",
   "execution_count": 6,
   "metadata": {},
   "outputs": [],
   "source": [
    "import pandas as pd\n",
    "import numpy as np\n",
    "from sklearn.preprocessing import LabelEncoder\n",
    "from sklearn.model_selection import train_test_split\n",
    "from sklearn.preprocessing import StandardScaler\n",
    "\n",
    "# Load the dataset\n",
    "dataset = pd.read_csv('nuovo_dataset_totale.csv')\n",
    "\n",
    "# Filter the dataset based on the 'genre' column\n",
    "filtered_df = dataset\n",
    "filtered_df = filtered_df.drop(['id'], axis=1)\n",
    "\n",
    "# Function to transform strings into lists of floats\n",
    "def transform_to_list(lst_str):\n",
    "    lst_str = lst_str.strip('][').split(', ')\n",
    "    return [float(x) for x in lst_str]\n",
    "\n",
    "# Apply the function to the 'popularity_artist' column\n",
    "filtered_df['popularity_artist'] = filtered_df['popularity_artist'].apply(transform_to_list)\n",
    "\n",
    "# Calculate the mean of each list\n",
    "filtered_df['popularity_artist'] = round(filtered_df['popularity_artist'].apply(np.mean), 2)\n",
    "\n",
    "# Define the target variables\n",
    "y = filtered_df[['popularity']]\n",
    "\n",
    "# Drop unnecessary columns from the feature matrix\n",
    "X = filtered_df.drop(['name', 'Unnamed: 0', 'artists', 'disc_number', 'album_type', 'album_release_date',\n",
    "                      'album_release_date_precision', 'album_name', 'genre',\n",
    "                      'popularity'], axis=1)\n",
    "\n",
    "# Split the data into training and testing sets\n",
    "X_train, X_test, y_train, y_test = train_test_split(X, y, test_size=0.2, random_state=72)\n",
    "\n",
    "# Normalize the feature matrix\n",
    "norm = StandardScaler()\n",
    "norm.fit(X_train)\n",
    "X_train_norm = norm.transform(X_train)\n",
    "X_test_norm = norm.transform(X_test)\n"
   ]
  },
  {
   "cell_type": "markdown",
   "metadata": {},
   "source": [
    "# MLRegressor"
   ]
  },
  {
   "cell_type": "code",
   "execution_count": 30,
   "metadata": {},
   "outputs": [
    {
     "name": "stdout",
     "output_type": "stream",
     "text": [
      "Strategy: median, Mean Squared Error: 524.6510306917087, R2 Score: -0.0003604906360632487\n"
     ]
    }
   ],
   "source": [
    "from sklearn.dummy import DummyRegressor\n",
    "from sklearn.model_selection import train_test_split\n",
    "from sklearn.metrics import mean_squared_error\n",
    "import numpy as np\n",
    "# Initialize the DummyRegressor with different strategies\n",
    "strategies = ['median']\n",
    "\n",
    "for strategy in strategies:\n",
    "    if strategy == 'median':\n",
    "        dummy_regressor = DummyRegressor(strategy=strategy, constant=0)\n",
    "    else:\n",
    "        dummy_regressor = DummyRegressor(strategy=strategy)\n",
    "    \n",
    "    # Fit the DummyRegressor\n",
    "    dummy_regressor.fit(X_train_norm, y_train)\n",
    "    \n",
    "    # Predict and evaluate\n",
    "    y_pred = dummy_regressor.predict(X_test_norm)\n",
    "    mse = mean_squared_error(y_test, y_pred)\n",
    "    \n",
    "    print(f\"Strategy: {strategy}, Mean Squared Error: {mse}, R2 Score: {dummy_regressor.score(X_test, y_test)}\")\n"
   ]
  },
  {
   "cell_type": "code",
   "execution_count": 31,
   "metadata": {},
   "outputs": [
    {
     "data": {
      "image/png": "[encoded data removed]",
      "text/plain": [
       "<Figure size 432x288 with 1 Axes>"
      ]
     },
     "metadata": {
      "needs_background": "light"
     },
     "output_type": "display_data"
    }
   ],
   "source": [
    "# Calculate residuals\n",
    "residuals = np.array(y_test).squeeze() - y_pred\n",
    "\n",
    "# Residual plot\n",
    "plt.scatter(y_pred, residuals)\n",
    "plt.axhline(y=0, color='r', linestyle='--')\n",
    "plt.xlabel('Predicted Values')\n",
    "plt.ylabel('Residuals')\n",
    "plt.title('Residual Plot')\n",
    "plt.show()\n"
   ]
  },
  {
   "cell_type": "code",
   "execution_count": 32,
   "metadata": {},
   "outputs": [
    {
     "data": {
      "image/png": "[encoded data removed]",
      "text/plain": [
       "<Figure size 432x288 with 1 Axes>"
      ]
     },
     "metadata": {
      "needs_background": "light"
     },
     "output_type": "display_data"
    }
   ],
   "source": [
    "# Histogram of residuals\n",
    "plt.hist(residuals, bins=20, edgecolor='k')\n",
    "plt.xlabel('Residual')\n",
    "plt.ylabel('Frequency')\n",
    "plt.title('Distribution of Residuals')\n",
    "plt.show()"
   ]
  }
 ],
 "metadata": {
  "kernelspec": {
   "display_name": "base",
   "language": "python",
   "name": "python3"
  },
  "language_info": {
   "codemirror_mode": {
    "name": "ipython",
    "version": 3
   },
   "file_extension": ".py",
   "mimetype": "text/x-python",
   "name": "python",
   "nbconvert_exporter": "python",
   "pygments_lexer": "ipython3",
   "version": "3.9.17"
  }
 },
 "nbformat": 4,
 "nbformat_minor": 2
}
