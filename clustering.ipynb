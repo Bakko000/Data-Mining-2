{
 "cells": [
  {
   "cell_type": "code",
   "execution_count": 1,
   "metadata": {},
   "outputs": [],
   "source": [
    "import numpy as np\n",
    "import pandas as pd\n",
    "from sklearn.cluster import KMeans\n",
    "from sklearn.preprocessing import StandardScaler\n",
    "import re\n",
    "\n",
    "df_ts = pd.read_csv(\"dataset_finale_timeseries.csv\")"
   ]
  },
  {
   "cell_type": "code",
   "execution_count": 2,
   "metadata": {},
   "outputs": [
    {
     "data": {
      "text/plain": [
       "array([\"['4033.9832331' '4452.53182549' '4493.08463585' '3163.79769777'\\n '3135.17003015' '3470.55780845']\",\n",
       "       \"['1246.7822784' '1275.03757568' '1389.82545827' '2652.79362882'\\n '2693.68073676' '2600.65255211']\",\n",
       "       \"['1246.7822784' '1275.03757568' '1389.82545827' '2652.79362882'\\n '2693.68073676' '2600.65255211']\",\n",
       "       ...,\n",
       "       \"['2302.0929479' '2354.56289982' '2498.05046408' '2277.9286643'\\n '2288.1843156' '2237.39309882']\",\n",
       "       \"['277.98730102' '284.18619178' '294.08906347' '286.62382674'\\n '276.99432885' '260.72051665']\",\n",
       "       \"['356.0063435' '345.85702448' '345.96274818' '339.33946718' '346.43608034'\\n '352.33679407']\"],\n",
       "      dtype=object)"
      ]
     },
     "execution_count": 2,
     "metadata": {},
     "output_type": "execute_result"
    }
   ],
   "source": [
    "df_ts[\"Time_Series\"].values"
   ]
  },
  {
   "cell_type": "code",
   "execution_count": 3,
   "metadata": {},
   "outputs": [],
   "source": [
    "# Funzione per convertire una stringa di time series in un array di valori\n",
    "def string_to_array(series_string):\n",
    "    # Estrai i numeri dalla stringa utilizzando regex\n",
    "    numbers = re.findall(r'[-+]?\\d*\\.\\d+|\\d+', series_string)\n",
    "    array_valori = np.array(numbers)\n",
    "\n",
    "    # Converti i numeri estratti in un array di float\n",
    "    return array_valori"
   ]
  },
  {
   "cell_type": "code",
   "execution_count": 4,
   "metadata": {},
   "outputs": [],
   "source": [
    "df_ts['Time_Series']=df_ts['Time_Series'].apply(string_to_array)"
   ]
  },
  {
   "cell_type": "code",
   "execution_count": 11,
   "metadata": {},
   "outputs": [
    {
     "data": {
      "text/plain": [
       "array(['4033.9832331', '4452.53182549', '4493.08463585', '3163.79769777',\n",
       "       '3135.17003015', '3470.55780845'], dtype='<U13')"
      ]
     },
     "execution_count": 11,
     "metadata": {},
     "output_type": "execute_result"
    }
   ],
   "source": [
    "df_ts[\"Time_Series\"][0]"
   ]
  },
  {
   "cell_type": "code",
   "execution_count": 13,
   "metadata": {},
   "outputs": [
    {
     "data": {
      "text/plain": [
       "array(['4033.9832331', '4452.53182549', '4493.08463585', '3163.79769777',\n",
       "       '3135.17003015', '3470.55780845'], dtype='<U13')"
      ]
     },
     "execution_count": 13,
     "metadata": {},
     "output_type": "execute_result"
    }
   ],
   "source": [
    "df_ts[\"Time_Series\"][0]"
   ]
  },
  {
   "cell_type": "code",
   "execution_count": 14,
   "metadata": {},
   "outputs": [],
   "source": [
    "# Preprocess the data\n",
    "X = df_ts['Time_Series'].values\n",
    "# Standardize the data\n",
    "scaler = StandardScaler()\n",
    "X_scaled = scaler.fit_transform(X)\n",
    "\n",
    "# Perform k-means clustering\n",
    "k = 2  # Number of clusters\n",
    "kmeans = KMeans(n_clusters=k, random_state=42)\n",
    "kmeans.fit(X_scaled)\n",
    "\n",
    "# Add cluster labels to DataFrame\n",
    "df_ts['cluster_label'] = kmeans.labels_\n",
    "\n",
    "# Print cluster centers (if needed)\n",
    "print(\"Cluster centers:\")\n",
    "print(scaler.inverse_transform(kmeans.cluster_centers_))\n",
    "\n",
    "# Print DataFrame with cluster labels\n",
    "print(\"DataFrame with cluster labels:\")\n",
    "print(df_ts)"
   ]
  }
 ],
 "metadata": {
  "kernelspec": {
   "display_name": "base",
   "language": "python",
   "name": "python3"
  },
  "language_info": {
   "codemirror_mode": {
    "name": "ipython",
    "version": 3
   },
   "file_extension": ".py",
   "mimetype": "text/x-python",
   "name": "python",
   "nbconvert_exporter": "python",
   "pygments_lexer": "ipython3",
   "version": "3.9.17"
  }
 },
 "nbformat": 4,
 "nbformat_minor": 2
}
